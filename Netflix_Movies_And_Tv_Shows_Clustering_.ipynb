{
  "nbformat": 4,
  "nbformat_minor": 0,
  "metadata": {
    "colab": {
      "provenance": [],
      "include_colab_link": true
    },
    "kernelspec": {
      "name": "python3",
      "display_name": "Python 3"
    },
    "language_info": {
      "name": "python"
    }
  },
  "cells": [
    {
      "cell_type": "markdown",
      "metadata": {
        "id": "view-in-github",
        "colab_type": "text"
      },
      "source": [
        "<a href=\"https://colab.research.google.com/github/gauriagarwal18/NETFLIX_MOVIES_AND_TV_SHOWS_CLUSTERING/blob/master/Netflix_Movies_And_Tv_Shows_Clustering_.ipynb\" target=\"_parent\"><img src=\"https://colab.research.google.com/assets/colab-badge.svg\" alt=\"Open In Colab\"/></a>"
      ]
    },
    {
      "cell_type": "markdown",
      "metadata": {
        "id": "LGcl5Bv9ed6u"
      },
      "source": [
        "# **Problem Statement**"
      ]
    },
    {
      "cell_type": "markdown",
      "metadata": {
        "id": "8M5kyFaVjzXk"
      },
      "source": [
        "This dataset consists of tv shows and movies available on Netflix as of 2019. The dataset is collected from Flixable which is a third-party Netflix search engine.\n",
        "\n",
        "In 2018, they released an interesting report which shows that the number of TV shows on Netflix has nearly tripled since 2010. The streaming service’s number of movies has decreased by more than 2,000 titles since 2010, while its number of TV shows has nearly tripled. It will be interesting to explore what all other insights can be obtained from the same dataset.\n",
        "\n",
        "Integrating this dataset with other external datasets such as IMDB ratings, rotten tomatoes can also provide many interesting findings."
      ]
    },
    {
      "cell_type": "markdown",
      "metadata": {
        "id": "tLx5cJO8hzb1"
      },
      "source": [
        "## <b>In this  project, you are required to do </b>\n",
        "1. Exploratory Data Analysis \n",
        "\n",
        "2. Understanding what type content is available in different countries\n",
        "\n",
        "3. Is Netflix has increasingly focusing on TV rather than movies in recent years.\n",
        "4. Clustering similar content by matching text-based features\n",
        "\n"
      ]
    },
    {
      "cell_type": "markdown",
      "metadata": {
        "id": "AzGDqdC4fZ-b"
      },
      "source": [
        "## **Attribute Information**"
      ]
    },
    {
      "cell_type": "markdown",
      "metadata": {
        "id": "jhfLYargscGV"
      },
      "source": [
        "1. show_id : Unique ID for every Movie / Tv Show\n",
        "\n",
        "2. type : Identifier - A Movie or TV Show\n",
        "\n",
        "3. title : Title of the Movie / Tv Show\n",
        "\n",
        "4. director : Director of the Movie\n",
        "\n",
        "5. cast : Actors involved in the movie / show\n",
        "\n",
        "6. country : Country where the movie / show was produced\n",
        "\n",
        "7. date_added : Date it was added on Netflix\n",
        "\n",
        "8. release_year : Actual Releaseyear of the movie / show\n",
        "\n",
        "9. rating : TV Rating of the movie / show\n",
        "\n",
        "10. duration : Total Duration - in minutes or number of seasons\n",
        "\n",
        "11. listed_in : Genere\n",
        "\n",
        "12. description: The Summary description"
      ]
    },
    {
      "cell_type": "markdown",
      "metadata": {
        "id": "wEdLAxhJiEz1"
      },
      "source": [
        "##Reading Data And Importing Libraries Required For Analysis\n"
      ]
    },
    {
      "cell_type": "markdown",
      "source": [
        "**We are using the following libraries for analysis:**\n",
        "- Numpy: We will use numpy arrays as they are comparitively faster than lists, also columns of dataframes behaves as numpy arrays\n",
        "\n",
        "- Pandas: for reading the data from csv file, for data cleaning and for preparing data for analysis\n",
        "\n",
        "- matplotlib,seaborn: for different visualisations, for drawing conclusions from data and for exploratory data analysis. "
      ],
      "metadata": {
        "id": "cYXFWIPHIgN1"
      }
    },
    {
      "cell_type": "code",
      "source": [
        "!pip install nltk              #for natural language processing tasks"
      ],
      "metadata": {
        "colab": {
          "base_uri": "https://localhost:8080/"
        },
        "id": "P3tH9eQmfrK7",
        "outputId": "940d649d-db1f-4eb9-fa36-2873a2a46903"
      },
      "execution_count": 1,
      "outputs": [
        {
          "output_type": "stream",
          "name": "stdout",
          "text": [
            "Looking in indexes: https://pypi.org/simple, https://us-python.pkg.dev/colab-wheels/public/simple/\n",
            "Requirement already satisfied: nltk in /usr/local/lib/python3.8/dist-packages (3.7)\n",
            "Requirement already satisfied: tqdm in /usr/local/lib/python3.8/dist-packages (from nltk) (4.64.1)\n",
            "Requirement already satisfied: click in /usr/local/lib/python3.8/dist-packages (from nltk) (7.1.2)\n",
            "Requirement already satisfied: regex>=2021.8.3 in /usr/local/lib/python3.8/dist-packages (from nltk) (2022.6.2)\n",
            "Requirement already satisfied: joblib in /usr/local/lib/python3.8/dist-packages (from nltk) (1.2.0)\n"
          ]
        }
      ]
    },
    {
      "cell_type": "code",
      "source": [
        "#required libraries\n",
        "import numpy as np\n",
        "import scipy\n",
        "import pandas as pd\n",
        "import math\n",
        "import random\n",
        "import sklearn\n",
        "from sklearn.model_selection import train_test_split\n",
        "from sklearn.feature_extraction.text import TfidfVectorizer, CountVectorizer\n",
        "from sklearn.metrics.pairwise import cosine_similarity\n",
        "from scipy.sparse.linalg import svds\n",
        "from sklearn.decomposition import LatentDirichletAllocation\n",
        "import matplotlib.pyplot as plt\n",
        "\n",
        "from nltk.tokenize import sent_tokenize, word_tokenize\n",
        "import nltk\n",
        "from nltk.corpus import stopwords\n",
        "from nltk.stem import WordNetLemmatizer\n",
        "import nltk\n",
        "import re\n",
        "import string\n",
        "nltk.download('all')"
      ],
      "metadata": {
        "id": "HG59adAFSuNa",
        "colab": {
          "base_uri": "https://localhost:8080/"
        },
        "outputId": "b4e2c07b-0ca5-46f8-b63c-ae2aeb04ca56"
      },
      "execution_count": 2,
      "outputs": [
        {
          "output_type": "stream",
          "name": "stderr",
          "text": [
            "[nltk_data] Downloading collection 'all'\n",
            "[nltk_data]    | \n",
            "[nltk_data]    | Downloading package abc to /root/nltk_data...\n",
            "[nltk_data]    |   Unzipping corpora/abc.zip.\n",
            "[nltk_data]    | Downloading package alpino to /root/nltk_data...\n",
            "[nltk_data]    |   Unzipping corpora/alpino.zip.\n",
            "[nltk_data]    | Downloading package averaged_perceptron_tagger to\n",
            "[nltk_data]    |     /root/nltk_data...\n",
            "[nltk_data]    |   Unzipping taggers/averaged_perceptron_tagger.zip.\n",
            "[nltk_data]    | Downloading package averaged_perceptron_tagger_ru to\n",
            "[nltk_data]    |     /root/nltk_data...\n",
            "[nltk_data]    |   Unzipping\n",
            "[nltk_data]    |       taggers/averaged_perceptron_tagger_ru.zip.\n",
            "[nltk_data]    | Downloading package basque_grammars to\n",
            "[nltk_data]    |     /root/nltk_data...\n",
            "[nltk_data]    |   Unzipping grammars/basque_grammars.zip.\n",
            "[nltk_data]    | Downloading package bcp47 to /root/nltk_data...\n",
            "[nltk_data]    | Downloading package biocreative_ppi to\n",
            "[nltk_data]    |     /root/nltk_data...\n",
            "[nltk_data]    |   Unzipping corpora/biocreative_ppi.zip.\n",
            "[nltk_data]    | Downloading package bllip_wsj_no_aux to\n",
            "[nltk_data]    |     /root/nltk_data...\n",
            "[nltk_data]    |   Unzipping models/bllip_wsj_no_aux.zip.\n",
            "[nltk_data]    | Downloading package book_grammars to\n",
            "[nltk_data]    |     /root/nltk_data...\n",
            "[nltk_data]    |   Unzipping grammars/book_grammars.zip.\n",
            "[nltk_data]    | Downloading package brown to /root/nltk_data...\n",
            "[nltk_data]    |   Unzipping corpora/brown.zip.\n",
            "[nltk_data]    | Downloading package brown_tei to /root/nltk_data...\n",
            "[nltk_data]    |   Unzipping corpora/brown_tei.zip.\n",
            "[nltk_data]    | Downloading package cess_cat to /root/nltk_data...\n",
            "[nltk_data]    |   Unzipping corpora/cess_cat.zip.\n",
            "[nltk_data]    | Downloading package cess_esp to /root/nltk_data...\n",
            "[nltk_data]    |   Unzipping corpora/cess_esp.zip.\n",
            "[nltk_data]    | Downloading package chat80 to /root/nltk_data...\n",
            "[nltk_data]    |   Unzipping corpora/chat80.zip.\n",
            "[nltk_data]    | Downloading package city_database to\n",
            "[nltk_data]    |     /root/nltk_data...\n",
            "[nltk_data]    |   Unzipping corpora/city_database.zip.\n",
            "[nltk_data]    | Downloading package cmudict to /root/nltk_data...\n",
            "[nltk_data]    |   Unzipping corpora/cmudict.zip.\n",
            "[nltk_data]    | Downloading package comparative_sentences to\n",
            "[nltk_data]    |     /root/nltk_data...\n",
            "[nltk_data]    |   Unzipping corpora/comparative_sentences.zip.\n",
            "[nltk_data]    | Downloading package comtrans to /root/nltk_data...\n",
            "[nltk_data]    | Downloading package conll2000 to /root/nltk_data...\n",
            "[nltk_data]    |   Unzipping corpora/conll2000.zip.\n",
            "[nltk_data]    | Downloading package conll2002 to /root/nltk_data...\n",
            "[nltk_data]    |   Unzipping corpora/conll2002.zip.\n",
            "[nltk_data]    | Downloading package conll2007 to /root/nltk_data...\n",
            "[nltk_data]    | Downloading package crubadan to /root/nltk_data...\n",
            "[nltk_data]    |   Unzipping corpora/crubadan.zip.\n",
            "[nltk_data]    | Downloading package dependency_treebank to\n",
            "[nltk_data]    |     /root/nltk_data...\n",
            "[nltk_data]    |   Unzipping corpora/dependency_treebank.zip.\n",
            "[nltk_data]    | Downloading package dolch to /root/nltk_data...\n",
            "[nltk_data]    |   Unzipping corpora/dolch.zip.\n",
            "[nltk_data]    | Downloading package europarl_raw to\n",
            "[nltk_data]    |     /root/nltk_data...\n",
            "[nltk_data]    |   Unzipping corpora/europarl_raw.zip.\n",
            "[nltk_data]    | Downloading package extended_omw to\n",
            "[nltk_data]    |     /root/nltk_data...\n",
            "[nltk_data]    | Downloading package floresta to /root/nltk_data...\n",
            "[nltk_data]    |   Unzipping corpora/floresta.zip.\n",
            "[nltk_data]    | Downloading package framenet_v15 to\n",
            "[nltk_data]    |     /root/nltk_data...\n",
            "[nltk_data]    |   Unzipping corpora/framenet_v15.zip.\n",
            "[nltk_data]    | Downloading package framenet_v17 to\n",
            "[nltk_data]    |     /root/nltk_data...\n",
            "[nltk_data]    |   Unzipping corpora/framenet_v17.zip.\n",
            "[nltk_data]    | Downloading package gazetteers to /root/nltk_data...\n",
            "[nltk_data]    |   Unzipping corpora/gazetteers.zip.\n",
            "[nltk_data]    | Downloading package genesis to /root/nltk_data...\n",
            "[nltk_data]    |   Unzipping corpora/genesis.zip.\n",
            "[nltk_data]    | Downloading package gutenberg to /root/nltk_data...\n",
            "[nltk_data]    |   Unzipping corpora/gutenberg.zip.\n",
            "[nltk_data]    | Downloading package ieer to /root/nltk_data...\n",
            "[nltk_data]    |   Unzipping corpora/ieer.zip.\n",
            "[nltk_data]    | Downloading package inaugural to /root/nltk_data...\n",
            "[nltk_data]    |   Unzipping corpora/inaugural.zip.\n",
            "[nltk_data]    | Downloading package indian to /root/nltk_data...\n",
            "[nltk_data]    |   Unzipping corpora/indian.zip.\n",
            "[nltk_data]    | Downloading package jeita to /root/nltk_data...\n",
            "[nltk_data]    | Downloading package kimmo to /root/nltk_data...\n",
            "[nltk_data]    |   Unzipping corpora/kimmo.zip.\n",
            "[nltk_data]    | Downloading package knbc to /root/nltk_data...\n",
            "[nltk_data]    | Downloading package large_grammars to\n",
            "[nltk_data]    |     /root/nltk_data...\n",
            "[nltk_data]    |   Unzipping grammars/large_grammars.zip.\n",
            "[nltk_data]    | Downloading package lin_thesaurus to\n",
            "[nltk_data]    |     /root/nltk_data...\n",
            "[nltk_data]    |   Unzipping corpora/lin_thesaurus.zip.\n",
            "[nltk_data]    | Downloading package mac_morpho to /root/nltk_data...\n",
            "[nltk_data]    |   Unzipping corpora/mac_morpho.zip.\n",
            "[nltk_data]    | Downloading package machado to /root/nltk_data...\n",
            "[nltk_data]    | Downloading package masc_tagged to /root/nltk_data...\n",
            "[nltk_data]    | Downloading package maxent_ne_chunker to\n",
            "[nltk_data]    |     /root/nltk_data...\n",
            "[nltk_data]    |   Unzipping chunkers/maxent_ne_chunker.zip.\n",
            "[nltk_data]    | Downloading package maxent_treebank_pos_tagger to\n",
            "[nltk_data]    |     /root/nltk_data...\n",
            "[nltk_data]    |   Unzipping taggers/maxent_treebank_pos_tagger.zip.\n",
            "[nltk_data]    | Downloading package moses_sample to\n",
            "[nltk_data]    |     /root/nltk_data...\n",
            "[nltk_data]    |   Unzipping models/moses_sample.zip.\n",
            "[nltk_data]    | Downloading package movie_reviews to\n",
            "[nltk_data]    |     /root/nltk_data...\n",
            "[nltk_data]    |   Unzipping corpora/movie_reviews.zip.\n",
            "[nltk_data]    | Downloading package mte_teip5 to /root/nltk_data...\n",
            "[nltk_data]    |   Unzipping corpora/mte_teip5.zip.\n",
            "[nltk_data]    | Downloading package mwa_ppdb to /root/nltk_data...\n",
            "[nltk_data]    |   Unzipping misc/mwa_ppdb.zip.\n",
            "[nltk_data]    | Downloading package names to /root/nltk_data...\n",
            "[nltk_data]    |   Unzipping corpora/names.zip.\n",
            "[nltk_data]    | Downloading package nombank.1.0 to /root/nltk_data...\n",
            "[nltk_data]    | Downloading package nonbreaking_prefixes to\n",
            "[nltk_data]    |     /root/nltk_data...\n",
            "[nltk_data]    |   Unzipping corpora/nonbreaking_prefixes.zip.\n",
            "[nltk_data]    | Downloading package nps_chat to /root/nltk_data...\n",
            "[nltk_data]    |   Unzipping corpora/nps_chat.zip.\n",
            "[nltk_data]    | Downloading package omw to /root/nltk_data...\n",
            "[nltk_data]    | Downloading package omw-1.4 to /root/nltk_data...\n",
            "[nltk_data]    | Downloading package opinion_lexicon to\n",
            "[nltk_data]    |     /root/nltk_data...\n",
            "[nltk_data]    |   Unzipping corpora/opinion_lexicon.zip.\n",
            "[nltk_data]    | Downloading package panlex_swadesh to\n",
            "[nltk_data]    |     /root/nltk_data...\n",
            "[nltk_data]    | Downloading package paradigms to /root/nltk_data...\n",
            "[nltk_data]    |   Unzipping corpora/paradigms.zip.\n",
            "[nltk_data]    | Downloading package pe08 to /root/nltk_data...\n",
            "[nltk_data]    |   Unzipping corpora/pe08.zip.\n",
            "[nltk_data]    | Downloading package perluniprops to\n",
            "[nltk_data]    |     /root/nltk_data...\n",
            "[nltk_data]    |   Unzipping misc/perluniprops.zip.\n",
            "[nltk_data]    | Downloading package pil to /root/nltk_data...\n",
            "[nltk_data]    |   Unzipping corpora/pil.zip.\n",
            "[nltk_data]    | Downloading package pl196x to /root/nltk_data...\n",
            "[nltk_data]    |   Unzipping corpora/pl196x.zip.\n",
            "[nltk_data]    | Downloading package porter_test to /root/nltk_data...\n",
            "[nltk_data]    |   Unzipping stemmers/porter_test.zip.\n",
            "[nltk_data]    | Downloading package ppattach to /root/nltk_data...\n",
            "[nltk_data]    |   Unzipping corpora/ppattach.zip.\n",
            "[nltk_data]    | Downloading package problem_reports to\n",
            "[nltk_data]    |     /root/nltk_data...\n",
            "[nltk_data]    |   Unzipping corpora/problem_reports.zip.\n",
            "[nltk_data]    | Downloading package product_reviews_1 to\n",
            "[nltk_data]    |     /root/nltk_data...\n",
            "[nltk_data]    |   Unzipping corpora/product_reviews_1.zip.\n",
            "[nltk_data]    | Downloading package product_reviews_2 to\n",
            "[nltk_data]    |     /root/nltk_data...\n",
            "[nltk_data]    |   Unzipping corpora/product_reviews_2.zip.\n",
            "[nltk_data]    | Downloading package propbank to /root/nltk_data...\n",
            "[nltk_data]    | Downloading package pros_cons to /root/nltk_data...\n",
            "[nltk_data]    |   Unzipping corpora/pros_cons.zip.\n",
            "[nltk_data]    | Downloading package ptb to /root/nltk_data...\n",
            "[nltk_data]    |   Unzipping corpora/ptb.zip.\n",
            "[nltk_data]    | Downloading package punkt to /root/nltk_data...\n",
            "[nltk_data]    |   Unzipping tokenizers/punkt.zip.\n",
            "[nltk_data]    | Downloading package qc to /root/nltk_data...\n",
            "[nltk_data]    |   Unzipping corpora/qc.zip.\n",
            "[nltk_data]    | Downloading package reuters to /root/nltk_data...\n",
            "[nltk_data]    | Downloading package rslp to /root/nltk_data...\n",
            "[nltk_data]    |   Unzipping stemmers/rslp.zip.\n",
            "[nltk_data]    | Downloading package rte to /root/nltk_data...\n",
            "[nltk_data]    |   Unzipping corpora/rte.zip.\n",
            "[nltk_data]    | Downloading package sample_grammars to\n",
            "[nltk_data]    |     /root/nltk_data...\n",
            "[nltk_data]    |   Unzipping grammars/sample_grammars.zip.\n",
            "[nltk_data]    | Downloading package semcor to /root/nltk_data...\n",
            "[nltk_data]    | Downloading package senseval to /root/nltk_data...\n",
            "[nltk_data]    |   Unzipping corpora/senseval.zip.\n",
            "[nltk_data]    | Downloading package sentence_polarity to\n",
            "[nltk_data]    |     /root/nltk_data...\n",
            "[nltk_data]    |   Unzipping corpora/sentence_polarity.zip.\n",
            "[nltk_data]    | Downloading package sentiwordnet to\n",
            "[nltk_data]    |     /root/nltk_data...\n",
            "[nltk_data]    |   Unzipping corpora/sentiwordnet.zip.\n",
            "[nltk_data]    | Downloading package shakespeare to /root/nltk_data...\n",
            "[nltk_data]    |   Unzipping corpora/shakespeare.zip.\n",
            "[nltk_data]    | Downloading package sinica_treebank to\n",
            "[nltk_data]    |     /root/nltk_data...\n",
            "[nltk_data]    |   Unzipping corpora/sinica_treebank.zip.\n",
            "[nltk_data]    | Downloading package smultron to /root/nltk_data...\n",
            "[nltk_data]    |   Unzipping corpora/smultron.zip.\n",
            "[nltk_data]    | Downloading package snowball_data to\n",
            "[nltk_data]    |     /root/nltk_data...\n",
            "[nltk_data]    | Downloading package spanish_grammars to\n",
            "[nltk_data]    |     /root/nltk_data...\n",
            "[nltk_data]    |   Unzipping grammars/spanish_grammars.zip.\n",
            "[nltk_data]    | Downloading package state_union to /root/nltk_data...\n",
            "[nltk_data]    |   Unzipping corpora/state_union.zip.\n",
            "[nltk_data]    | Downloading package stopwords to /root/nltk_data...\n",
            "[nltk_data]    |   Unzipping corpora/stopwords.zip.\n",
            "[nltk_data]    | Downloading package subjectivity to\n",
            "[nltk_data]    |     /root/nltk_data...\n",
            "[nltk_data]    |   Unzipping corpora/subjectivity.zip.\n",
            "[nltk_data]    | Downloading package swadesh to /root/nltk_data...\n",
            "[nltk_data]    |   Unzipping corpora/swadesh.zip.\n",
            "[nltk_data]    | Downloading package switchboard to /root/nltk_data...\n",
            "[nltk_data]    |   Unzipping corpora/switchboard.zip.\n",
            "[nltk_data]    | Downloading package tagsets to /root/nltk_data...\n",
            "[nltk_data]    |   Unzipping help/tagsets.zip.\n",
            "[nltk_data]    | Downloading package timit to /root/nltk_data...\n",
            "[nltk_data]    |   Unzipping corpora/timit.zip.\n",
            "[nltk_data]    | Downloading package toolbox to /root/nltk_data...\n",
            "[nltk_data]    |   Unzipping corpora/toolbox.zip.\n",
            "[nltk_data]    | Downloading package treebank to /root/nltk_data...\n",
            "[nltk_data]    |   Unzipping corpora/treebank.zip.\n",
            "[nltk_data]    | Downloading package twitter_samples to\n",
            "[nltk_data]    |     /root/nltk_data...\n",
            "[nltk_data]    |   Unzipping corpora/twitter_samples.zip.\n",
            "[nltk_data]    | Downloading package udhr to /root/nltk_data...\n",
            "[nltk_data]    |   Unzipping corpora/udhr.zip.\n",
            "[nltk_data]    | Downloading package udhr2 to /root/nltk_data...\n",
            "[nltk_data]    |   Unzipping corpora/udhr2.zip.\n",
            "[nltk_data]    | Downloading package unicode_samples to\n",
            "[nltk_data]    |     /root/nltk_data...\n",
            "[nltk_data]    |   Unzipping corpora/unicode_samples.zip.\n",
            "[nltk_data]    | Downloading package universal_tagset to\n",
            "[nltk_data]    |     /root/nltk_data...\n",
            "[nltk_data]    |   Unzipping taggers/universal_tagset.zip.\n",
            "[nltk_data]    | Downloading package universal_treebanks_v20 to\n",
            "[nltk_data]    |     /root/nltk_data...\n",
            "[nltk_data]    | Downloading package vader_lexicon to\n",
            "[nltk_data]    |     /root/nltk_data...\n",
            "[nltk_data]    | Downloading package verbnet to /root/nltk_data...\n",
            "[nltk_data]    |   Unzipping corpora/verbnet.zip.\n",
            "[nltk_data]    | Downloading package verbnet3 to /root/nltk_data...\n",
            "[nltk_data]    |   Unzipping corpora/verbnet3.zip.\n",
            "[nltk_data]    | Downloading package webtext to /root/nltk_data...\n",
            "[nltk_data]    |   Unzipping corpora/webtext.zip.\n",
            "[nltk_data]    | Downloading package wmt15_eval to /root/nltk_data...\n",
            "[nltk_data]    |   Unzipping models/wmt15_eval.zip.\n",
            "[nltk_data]    | Downloading package word2vec_sample to\n",
            "[nltk_data]    |     /root/nltk_data...\n",
            "[nltk_data]    |   Unzipping models/word2vec_sample.zip.\n",
            "[nltk_data]    | Downloading package wordnet to /root/nltk_data...\n",
            "[nltk_data]    | Downloading package wordnet2021 to /root/nltk_data...\n",
            "[nltk_data]    | Downloading package wordnet31 to /root/nltk_data...\n",
            "[nltk_data]    | Downloading package wordnet_ic to /root/nltk_data...\n",
            "[nltk_data]    |   Unzipping corpora/wordnet_ic.zip.\n",
            "[nltk_data]    | Downloading package words to /root/nltk_data...\n",
            "[nltk_data]    |   Unzipping corpora/words.zip.\n",
            "[nltk_data]    | Downloading package ycoe to /root/nltk_data...\n",
            "[nltk_data]    |   Unzipping corpora/ycoe.zip.\n",
            "[nltk_data]    | \n",
            "[nltk_data]  Done downloading collection all\n"
          ]
        },
        {
          "output_type": "execute_result",
          "data": {
            "text/plain": [
              "True"
            ]
          },
          "metadata": {},
          "execution_count": 2
        }
      ]
    },
    {
      "cell_type": "code",
      "source": [
        "#importing drive\n",
        "from google.colab import drive\n",
        "drive.mount('/content/drive')"
      ],
      "metadata": {
        "id": "BKWNQwZgTBBk",
        "colab": {
          "base_uri": "https://localhost:8080/"
        },
        "outputId": "01a89aa8-f57a-478e-fefd-4f4712574954"
      },
      "execution_count": 3,
      "outputs": [
        {
          "output_type": "stream",
          "name": "stdout",
          "text": [
            "Mounted at /content/drive\n"
          ]
        }
      ]
    },
    {
      "cell_type": "code",
      "source": [
        "path = '/content/drive/MyDrive/AlmaBetter_Capstone_projects/capstone_project4/Copy of NETFLIX MOVIES AND TV SHOWS CLUSTERING.csv'\n",
        "netflix_original = pd.read_csv(path,parse_dates=[6],na_values=\"\")"
      ],
      "metadata": {
        "id": "qatk8KE3TBt8"
      },
      "execution_count": 4,
      "outputs": []
    },
    {
      "cell_type": "code",
      "source": [
        "netflix = netflix_original.copy()"
      ],
      "metadata": {
        "id": "9Rg7GJTcTakT"
      },
      "execution_count": 5,
      "outputs": []
    },
    {
      "cell_type": "code",
      "source": [
        "netflix.head()"
      ],
      "metadata": {
        "id": "9MFJTIQfTfuZ",
        "colab": {
          "base_uri": "https://localhost:8080/",
          "height": 337
        },
        "outputId": "55fec846-52e2-42c9-c869-764024ba9e9f"
      },
      "execution_count": 6,
      "outputs": [
        {
          "output_type": "execute_result",
          "data": {
            "text/plain": [
              "  show_id     type  title           director  \\\n",
              "0      s1  TV Show     3%                NaN   \n",
              "1      s2    Movie   7:19  Jorge Michel Grau   \n",
              "2      s3    Movie  23:59       Gilbert Chan   \n",
              "3      s4    Movie      9        Shane Acker   \n",
              "4      s5    Movie     21     Robert Luketic   \n",
              "\n",
              "                                                cast        country  \\\n",
              "0  João Miguel, Bianca Comparato, Michel Gomes, R...         Brazil   \n",
              "1  Demián Bichir, Héctor Bonilla, Oscar Serrano, ...         Mexico   \n",
              "2  Tedd Chan, Stella Chung, Henley Hii, Lawrence ...      Singapore   \n",
              "3  Elijah Wood, John C. Reilly, Jennifer Connelly...  United States   \n",
              "4  Jim Sturgess, Kevin Spacey, Kate Bosworth, Aar...  United States   \n",
              "\n",
              "  date_added  release_year rating   duration  \\\n",
              "0 2020-08-14          2020  TV-MA  4 Seasons   \n",
              "1 2016-12-23          2016  TV-MA     93 min   \n",
              "2 2018-12-20          2011      R     78 min   \n",
              "3 2017-11-16          2009  PG-13     80 min   \n",
              "4 2020-01-01          2008  PG-13    123 min   \n",
              "\n",
              "                                           listed_in  \\\n",
              "0  International TV Shows, TV Dramas, TV Sci-Fi &...   \n",
              "1                       Dramas, International Movies   \n",
              "2                Horror Movies, International Movies   \n",
              "3  Action & Adventure, Independent Movies, Sci-Fi...   \n",
              "4                                             Dramas   \n",
              "\n",
              "                                         description  \n",
              "0  In a future where the elite inhabit an island ...  \n",
              "1  After a devastating earthquake hits Mexico Cit...  \n",
              "2  When an army recruit is found dead, his fellow...  \n",
              "3  In a postapocalyptic world, rag-doll robots hi...  \n",
              "4  A brilliant group of students become card-coun...  "
            ],
            "text/html": [
              "\n",
              "  <div id=\"df-5cfc281e-fd9d-4990-9ea2-205b54fa1a64\">\n",
              "    <div class=\"colab-df-container\">\n",
              "      <div>\n",
              "<style scoped>\n",
              "    .dataframe tbody tr th:only-of-type {\n",
              "        vertical-align: middle;\n",
              "    }\n",
              "\n",
              "    .dataframe tbody tr th {\n",
              "        vertical-align: top;\n",
              "    }\n",
              "\n",
              "    .dataframe thead th {\n",
              "        text-align: right;\n",
              "    }\n",
              "</style>\n",
              "<table border=\"1\" class=\"dataframe\">\n",
              "  <thead>\n",
              "    <tr style=\"text-align: right;\">\n",
              "      <th></th>\n",
              "      <th>show_id</th>\n",
              "      <th>type</th>\n",
              "      <th>title</th>\n",
              "      <th>director</th>\n",
              "      <th>cast</th>\n",
              "      <th>country</th>\n",
              "      <th>date_added</th>\n",
              "      <th>release_year</th>\n",
              "      <th>rating</th>\n",
              "      <th>duration</th>\n",
              "      <th>listed_in</th>\n",
              "      <th>description</th>\n",
              "    </tr>\n",
              "  </thead>\n",
              "  <tbody>\n",
              "    <tr>\n",
              "      <th>0</th>\n",
              "      <td>s1</td>\n",
              "      <td>TV Show</td>\n",
              "      <td>3%</td>\n",
              "      <td>NaN</td>\n",
              "      <td>João Miguel, Bianca Comparato, Michel Gomes, R...</td>\n",
              "      <td>Brazil</td>\n",
              "      <td>2020-08-14</td>\n",
              "      <td>2020</td>\n",
              "      <td>TV-MA</td>\n",
              "      <td>4 Seasons</td>\n",
              "      <td>International TV Shows, TV Dramas, TV Sci-Fi &amp;...</td>\n",
              "      <td>In a future where the elite inhabit an island ...</td>\n",
              "    </tr>\n",
              "    <tr>\n",
              "      <th>1</th>\n",
              "      <td>s2</td>\n",
              "      <td>Movie</td>\n",
              "      <td>7:19</td>\n",
              "      <td>Jorge Michel Grau</td>\n",
              "      <td>Demián Bichir, Héctor Bonilla, Oscar Serrano, ...</td>\n",
              "      <td>Mexico</td>\n",
              "      <td>2016-12-23</td>\n",
              "      <td>2016</td>\n",
              "      <td>TV-MA</td>\n",
              "      <td>93 min</td>\n",
              "      <td>Dramas, International Movies</td>\n",
              "      <td>After a devastating earthquake hits Mexico Cit...</td>\n",
              "    </tr>\n",
              "    <tr>\n",
              "      <th>2</th>\n",
              "      <td>s3</td>\n",
              "      <td>Movie</td>\n",
              "      <td>23:59</td>\n",
              "      <td>Gilbert Chan</td>\n",
              "      <td>Tedd Chan, Stella Chung, Henley Hii, Lawrence ...</td>\n",
              "      <td>Singapore</td>\n",
              "      <td>2018-12-20</td>\n",
              "      <td>2011</td>\n",
              "      <td>R</td>\n",
              "      <td>78 min</td>\n",
              "      <td>Horror Movies, International Movies</td>\n",
              "      <td>When an army recruit is found dead, his fellow...</td>\n",
              "    </tr>\n",
              "    <tr>\n",
              "      <th>3</th>\n",
              "      <td>s4</td>\n",
              "      <td>Movie</td>\n",
              "      <td>9</td>\n",
              "      <td>Shane Acker</td>\n",
              "      <td>Elijah Wood, John C. Reilly, Jennifer Connelly...</td>\n",
              "      <td>United States</td>\n",
              "      <td>2017-11-16</td>\n",
              "      <td>2009</td>\n",
              "      <td>PG-13</td>\n",
              "      <td>80 min</td>\n",
              "      <td>Action &amp; Adventure, Independent Movies, Sci-Fi...</td>\n",
              "      <td>In a postapocalyptic world, rag-doll robots hi...</td>\n",
              "    </tr>\n",
              "    <tr>\n",
              "      <th>4</th>\n",
              "      <td>s5</td>\n",
              "      <td>Movie</td>\n",
              "      <td>21</td>\n",
              "      <td>Robert Luketic</td>\n",
              "      <td>Jim Sturgess, Kevin Spacey, Kate Bosworth, Aar...</td>\n",
              "      <td>United States</td>\n",
              "      <td>2020-01-01</td>\n",
              "      <td>2008</td>\n",
              "      <td>PG-13</td>\n",
              "      <td>123 min</td>\n",
              "      <td>Dramas</td>\n",
              "      <td>A brilliant group of students become card-coun...</td>\n",
              "    </tr>\n",
              "  </tbody>\n",
              "</table>\n",
              "</div>\n",
              "      <button class=\"colab-df-convert\" onclick=\"convertToInteractive('df-5cfc281e-fd9d-4990-9ea2-205b54fa1a64')\"\n",
              "              title=\"Convert this dataframe to an interactive table.\"\n",
              "              style=\"display:none;\">\n",
              "        \n",
              "  <svg xmlns=\"http://www.w3.org/2000/svg\" height=\"24px\"viewBox=\"0 0 24 24\"\n",
              "       width=\"24px\">\n",
              "    <path d=\"M0 0h24v24H0V0z\" fill=\"none\"/>\n",
              "    <path d=\"M18.56 5.44l.94 2.06.94-2.06 2.06-.94-2.06-.94-.94-2.06-.94 2.06-2.06.94zm-11 1L8.5 8.5l.94-2.06 2.06-.94-2.06-.94L8.5 2.5l-.94 2.06-2.06.94zm10 10l.94 2.06.94-2.06 2.06-.94-2.06-.94-.94-2.06-.94 2.06-2.06.94z\"/><path d=\"M17.41 7.96l-1.37-1.37c-.4-.4-.92-.59-1.43-.59-.52 0-1.04.2-1.43.59L10.3 9.45l-7.72 7.72c-.78.78-.78 2.05 0 2.83L4 21.41c.39.39.9.59 1.41.59.51 0 1.02-.2 1.41-.59l7.78-7.78 2.81-2.81c.8-.78.8-2.07 0-2.86zM5.41 20L4 18.59l7.72-7.72 1.47 1.35L5.41 20z\"/>\n",
              "  </svg>\n",
              "      </button>\n",
              "      \n",
              "  <style>\n",
              "    .colab-df-container {\n",
              "      display:flex;\n",
              "      flex-wrap:wrap;\n",
              "      gap: 12px;\n",
              "    }\n",
              "\n",
              "    .colab-df-convert {\n",
              "      background-color: #E8F0FE;\n",
              "      border: none;\n",
              "      border-radius: 50%;\n",
              "      cursor: pointer;\n",
              "      display: none;\n",
              "      fill: #1967D2;\n",
              "      height: 32px;\n",
              "      padding: 0 0 0 0;\n",
              "      width: 32px;\n",
              "    }\n",
              "\n",
              "    .colab-df-convert:hover {\n",
              "      background-color: #E2EBFA;\n",
              "      box-shadow: 0px 1px 2px rgba(60, 64, 67, 0.3), 0px 1px 3px 1px rgba(60, 64, 67, 0.15);\n",
              "      fill: #174EA6;\n",
              "    }\n",
              "\n",
              "    [theme=dark] .colab-df-convert {\n",
              "      background-color: #3B4455;\n",
              "      fill: #D2E3FC;\n",
              "    }\n",
              "\n",
              "    [theme=dark] .colab-df-convert:hover {\n",
              "      background-color: #434B5C;\n",
              "      box-shadow: 0px 1px 3px 1px rgba(0, 0, 0, 0.15);\n",
              "      filter: drop-shadow(0px 1px 2px rgba(0, 0, 0, 0.3));\n",
              "      fill: #FFFFFF;\n",
              "    }\n",
              "  </style>\n",
              "\n",
              "      <script>\n",
              "        const buttonEl =\n",
              "          document.querySelector('#df-5cfc281e-fd9d-4990-9ea2-205b54fa1a64 button.colab-df-convert');\n",
              "        buttonEl.style.display =\n",
              "          google.colab.kernel.accessAllowed ? 'block' : 'none';\n",
              "\n",
              "        async function convertToInteractive(key) {\n",
              "          const element = document.querySelector('#df-5cfc281e-fd9d-4990-9ea2-205b54fa1a64');\n",
              "          const dataTable =\n",
              "            await google.colab.kernel.invokeFunction('convertToInteractive',\n",
              "                                                     [key], {});\n",
              "          if (!dataTable) return;\n",
              "\n",
              "          const docLinkHtml = 'Like what you see? Visit the ' +\n",
              "            '<a target=\"_blank\" href=https://colab.research.google.com/notebooks/data_table.ipynb>data table notebook</a>'\n",
              "            + ' to learn more about interactive tables.';\n",
              "          element.innerHTML = '';\n",
              "          dataTable['output_type'] = 'display_data';\n",
              "          await google.colab.output.renderOutput(dataTable, element);\n",
              "          const docLink = document.createElement('div');\n",
              "          docLink.innerHTML = docLinkHtml;\n",
              "          element.appendChild(docLink);\n",
              "        }\n",
              "      </script>\n",
              "    </div>\n",
              "  </div>\n",
              "  "
            ]
          },
          "metadata": {},
          "execution_count": 6
        }
      ]
    },
    {
      "cell_type": "code",
      "source": [
        "netflix.info()"
      ],
      "metadata": {
        "id": "u9O1zzXvTiu6",
        "colab": {
          "base_uri": "https://localhost:8080/"
        },
        "outputId": "3601509c-2de7-4bb9-d5e5-696e8886f62f"
      },
      "execution_count": 7,
      "outputs": [
        {
          "output_type": "stream",
          "name": "stdout",
          "text": [
            "<class 'pandas.core.frame.DataFrame'>\n",
            "RangeIndex: 7787 entries, 0 to 7786\n",
            "Data columns (total 12 columns):\n",
            " #   Column        Non-Null Count  Dtype         \n",
            "---  ------        --------------  -----         \n",
            " 0   show_id       7787 non-null   object        \n",
            " 1   type          7787 non-null   object        \n",
            " 2   title         7787 non-null   object        \n",
            " 3   director      5398 non-null   object        \n",
            " 4   cast          7069 non-null   object        \n",
            " 5   country       7280 non-null   object        \n",
            " 6   date_added    7777 non-null   datetime64[ns]\n",
            " 7   release_year  7787 non-null   int64         \n",
            " 8   rating        7780 non-null   object        \n",
            " 9   duration      7787 non-null   object        \n",
            " 10  listed_in     7787 non-null   object        \n",
            " 11  description   7787 non-null   object        \n",
            "dtypes: datetime64[ns](1), int64(1), object(10)\n",
            "memory usage: 730.2+ KB\n"
          ]
        }
      ]
    },
    {
      "cell_type": "markdown",
      "source": [
        "INFERENCE: To remove the null values we will first perform feature engineering."
      ],
      "metadata": {
        "id": "6ZpnWDl7VtOW"
      }
    },
    {
      "cell_type": "code",
      "source": [
        "netflix.describe(include = 'all') "
      ],
      "metadata": {
        "id": "d1zjaEazXAa8",
        "colab": {
          "base_uri": "https://localhost:8080/",
          "height": 610
        },
        "outputId": "ea975236-60dc-4b55-fa6b-23de4a313e1d"
      },
      "execution_count": 8,
      "outputs": [
        {
          "output_type": "stream",
          "name": "stderr",
          "text": [
            "<ipython-input-8-d899a5d85194>:1: FutureWarning: Treating datetime data as categorical rather than numeric in `.describe` is deprecated and will be removed in a future version of pandas. Specify `datetime_is_numeric=True` to silence this warning and adopt the future behavior now.\n",
            "  netflix.describe(include = 'all')\n"
          ]
        },
        {
          "output_type": "execute_result",
          "data": {
            "text/plain": [
              "       show_id   type title                director                cast  \\\n",
              "count     7787   7787  7787                    5398                7069   \n",
              "unique    7787      2  7787                    4049                6831   \n",
              "top         s1  Movie    3%  Raúl Campos, Jan Suter  David Attenborough   \n",
              "freq         1   5377     1                      18                  18   \n",
              "first      NaN    NaN   NaN                     NaN                 NaN   \n",
              "last       NaN    NaN   NaN                     NaN                 NaN   \n",
              "mean       NaN    NaN   NaN                     NaN                 NaN   \n",
              "std        NaN    NaN   NaN                     NaN                 NaN   \n",
              "min        NaN    NaN   NaN                     NaN                 NaN   \n",
              "25%        NaN    NaN   NaN                     NaN                 NaN   \n",
              "50%        NaN    NaN   NaN                     NaN                 NaN   \n",
              "75%        NaN    NaN   NaN                     NaN                 NaN   \n",
              "max        NaN    NaN   NaN                     NaN                 NaN   \n",
              "\n",
              "              country           date_added  release_year rating  duration  \\\n",
              "count            7280                 7777   7787.000000   7780      7787   \n",
              "unique            681                 1512           NaN     14       216   \n",
              "top     United States  2020-01-01 00:00:00           NaN  TV-MA  1 Season   \n",
              "freq             2555                  119           NaN   2863      1608   \n",
              "first             NaN  2008-01-01 00:00:00           NaN    NaN       NaN   \n",
              "last              NaN  2021-01-16 00:00:00           NaN    NaN       NaN   \n",
              "mean              NaN                  NaN   2013.932580    NaN       NaN   \n",
              "std               NaN                  NaN      8.757395    NaN       NaN   \n",
              "min               NaN                  NaN   1925.000000    NaN       NaN   \n",
              "25%               NaN                  NaN   2013.000000    NaN       NaN   \n",
              "50%               NaN                  NaN   2017.000000    NaN       NaN   \n",
              "75%               NaN                  NaN   2018.000000    NaN       NaN   \n",
              "max               NaN                  NaN   2021.000000    NaN       NaN   \n",
              "\n",
              "            listed_in                                        description  \n",
              "count            7787                                               7787  \n",
              "unique            492                                               7769  \n",
              "top     Documentaries  Multiple women report their husbands as missin...  \n",
              "freq              334                                                  3  \n",
              "first             NaN                                                NaN  \n",
              "last              NaN                                                NaN  \n",
              "mean              NaN                                                NaN  \n",
              "std               NaN                                                NaN  \n",
              "min               NaN                                                NaN  \n",
              "25%               NaN                                                NaN  \n",
              "50%               NaN                                                NaN  \n",
              "75%               NaN                                                NaN  \n",
              "max               NaN                                                NaN  "
            ],
            "text/html": [
              "\n",
              "  <div id=\"df-483e368b-ea6a-41d9-a7cd-2a98393dfae6\">\n",
              "    <div class=\"colab-df-container\">\n",
              "      <div>\n",
              "<style scoped>\n",
              "    .dataframe tbody tr th:only-of-type {\n",
              "        vertical-align: middle;\n",
              "    }\n",
              "\n",
              "    .dataframe tbody tr th {\n",
              "        vertical-align: top;\n",
              "    }\n",
              "\n",
              "    .dataframe thead th {\n",
              "        text-align: right;\n",
              "    }\n",
              "</style>\n",
              "<table border=\"1\" class=\"dataframe\">\n",
              "  <thead>\n",
              "    <tr style=\"text-align: right;\">\n",
              "      <th></th>\n",
              "      <th>show_id</th>\n",
              "      <th>type</th>\n",
              "      <th>title</th>\n",
              "      <th>director</th>\n",
              "      <th>cast</th>\n",
              "      <th>country</th>\n",
              "      <th>date_added</th>\n",
              "      <th>release_year</th>\n",
              "      <th>rating</th>\n",
              "      <th>duration</th>\n",
              "      <th>listed_in</th>\n",
              "      <th>description</th>\n",
              "    </tr>\n",
              "  </thead>\n",
              "  <tbody>\n",
              "    <tr>\n",
              "      <th>count</th>\n",
              "      <td>7787</td>\n",
              "      <td>7787</td>\n",
              "      <td>7787</td>\n",
              "      <td>5398</td>\n",
              "      <td>7069</td>\n",
              "      <td>7280</td>\n",
              "      <td>7777</td>\n",
              "      <td>7787.000000</td>\n",
              "      <td>7780</td>\n",
              "      <td>7787</td>\n",
              "      <td>7787</td>\n",
              "      <td>7787</td>\n",
              "    </tr>\n",
              "    <tr>\n",
              "      <th>unique</th>\n",
              "      <td>7787</td>\n",
              "      <td>2</td>\n",
              "      <td>7787</td>\n",
              "      <td>4049</td>\n",
              "      <td>6831</td>\n",
              "      <td>681</td>\n",
              "      <td>1512</td>\n",
              "      <td>NaN</td>\n",
              "      <td>14</td>\n",
              "      <td>216</td>\n",
              "      <td>492</td>\n",
              "      <td>7769</td>\n",
              "    </tr>\n",
              "    <tr>\n",
              "      <th>top</th>\n",
              "      <td>s1</td>\n",
              "      <td>Movie</td>\n",
              "      <td>3%</td>\n",
              "      <td>Raúl Campos, Jan Suter</td>\n",
              "      <td>David Attenborough</td>\n",
              "      <td>United States</td>\n",
              "      <td>2020-01-01 00:00:00</td>\n",
              "      <td>NaN</td>\n",
              "      <td>TV-MA</td>\n",
              "      <td>1 Season</td>\n",
              "      <td>Documentaries</td>\n",
              "      <td>Multiple women report their husbands as missin...</td>\n",
              "    </tr>\n",
              "    <tr>\n",
              "      <th>freq</th>\n",
              "      <td>1</td>\n",
              "      <td>5377</td>\n",
              "      <td>1</td>\n",
              "      <td>18</td>\n",
              "      <td>18</td>\n",
              "      <td>2555</td>\n",
              "      <td>119</td>\n",
              "      <td>NaN</td>\n",
              "      <td>2863</td>\n",
              "      <td>1608</td>\n",
              "      <td>334</td>\n",
              "      <td>3</td>\n",
              "    </tr>\n",
              "    <tr>\n",
              "      <th>first</th>\n",
              "      <td>NaN</td>\n",
              "      <td>NaN</td>\n",
              "      <td>NaN</td>\n",
              "      <td>NaN</td>\n",
              "      <td>NaN</td>\n",
              "      <td>NaN</td>\n",
              "      <td>2008-01-01 00:00:00</td>\n",
              "      <td>NaN</td>\n",
              "      <td>NaN</td>\n",
              "      <td>NaN</td>\n",
              "      <td>NaN</td>\n",
              "      <td>NaN</td>\n",
              "    </tr>\n",
              "    <tr>\n",
              "      <th>last</th>\n",
              "      <td>NaN</td>\n",
              "      <td>NaN</td>\n",
              "      <td>NaN</td>\n",
              "      <td>NaN</td>\n",
              "      <td>NaN</td>\n",
              "      <td>NaN</td>\n",
              "      <td>2021-01-16 00:00:00</td>\n",
              "      <td>NaN</td>\n",
              "      <td>NaN</td>\n",
              "      <td>NaN</td>\n",
              "      <td>NaN</td>\n",
              "      <td>NaN</td>\n",
              "    </tr>\n",
              "    <tr>\n",
              "      <th>mean</th>\n",
              "      <td>NaN</td>\n",
              "      <td>NaN</td>\n",
              "      <td>NaN</td>\n",
              "      <td>NaN</td>\n",
              "      <td>NaN</td>\n",
              "      <td>NaN</td>\n",
              "      <td>NaN</td>\n",
              "      <td>2013.932580</td>\n",
              "      <td>NaN</td>\n",
              "      <td>NaN</td>\n",
              "      <td>NaN</td>\n",
              "      <td>NaN</td>\n",
              "    </tr>\n",
              "    <tr>\n",
              "      <th>std</th>\n",
              "      <td>NaN</td>\n",
              "      <td>NaN</td>\n",
              "      <td>NaN</td>\n",
              "      <td>NaN</td>\n",
              "      <td>NaN</td>\n",
              "      <td>NaN</td>\n",
              "      <td>NaN</td>\n",
              "      <td>8.757395</td>\n",
              "      <td>NaN</td>\n",
              "      <td>NaN</td>\n",
              "      <td>NaN</td>\n",
              "      <td>NaN</td>\n",
              "    </tr>\n",
              "    <tr>\n",
              "      <th>min</th>\n",
              "      <td>NaN</td>\n",
              "      <td>NaN</td>\n",
              "      <td>NaN</td>\n",
              "      <td>NaN</td>\n",
              "      <td>NaN</td>\n",
              "      <td>NaN</td>\n",
              "      <td>NaN</td>\n",
              "      <td>1925.000000</td>\n",
              "      <td>NaN</td>\n",
              "      <td>NaN</td>\n",
              "      <td>NaN</td>\n",
              "      <td>NaN</td>\n",
              "    </tr>\n",
              "    <tr>\n",
              "      <th>25%</th>\n",
              "      <td>NaN</td>\n",
              "      <td>NaN</td>\n",
              "      <td>NaN</td>\n",
              "      <td>NaN</td>\n",
              "      <td>NaN</td>\n",
              "      <td>NaN</td>\n",
              "      <td>NaN</td>\n",
              "      <td>2013.000000</td>\n",
              "      <td>NaN</td>\n",
              "      <td>NaN</td>\n",
              "      <td>NaN</td>\n",
              "      <td>NaN</td>\n",
              "    </tr>\n",
              "    <tr>\n",
              "      <th>50%</th>\n",
              "      <td>NaN</td>\n",
              "      <td>NaN</td>\n",
              "      <td>NaN</td>\n",
              "      <td>NaN</td>\n",
              "      <td>NaN</td>\n",
              "      <td>NaN</td>\n",
              "      <td>NaN</td>\n",
              "      <td>2017.000000</td>\n",
              "      <td>NaN</td>\n",
              "      <td>NaN</td>\n",
              "      <td>NaN</td>\n",
              "      <td>NaN</td>\n",
              "    </tr>\n",
              "    <tr>\n",
              "      <th>75%</th>\n",
              "      <td>NaN</td>\n",
              "      <td>NaN</td>\n",
              "      <td>NaN</td>\n",
              "      <td>NaN</td>\n",
              "      <td>NaN</td>\n",
              "      <td>NaN</td>\n",
              "      <td>NaN</td>\n",
              "      <td>2018.000000</td>\n",
              "      <td>NaN</td>\n",
              "      <td>NaN</td>\n",
              "      <td>NaN</td>\n",
              "      <td>NaN</td>\n",
              "    </tr>\n",
              "    <tr>\n",
              "      <th>max</th>\n",
              "      <td>NaN</td>\n",
              "      <td>NaN</td>\n",
              "      <td>NaN</td>\n",
              "      <td>NaN</td>\n",
              "      <td>NaN</td>\n",
              "      <td>NaN</td>\n",
              "      <td>NaN</td>\n",
              "      <td>2021.000000</td>\n",
              "      <td>NaN</td>\n",
              "      <td>NaN</td>\n",
              "      <td>NaN</td>\n",
              "      <td>NaN</td>\n",
              "    </tr>\n",
              "  </tbody>\n",
              "</table>\n",
              "</div>\n",
              "      <button class=\"colab-df-convert\" onclick=\"convertToInteractive('df-483e368b-ea6a-41d9-a7cd-2a98393dfae6')\"\n",
              "              title=\"Convert this dataframe to an interactive table.\"\n",
              "              style=\"display:none;\">\n",
              "        \n",
              "  <svg xmlns=\"http://www.w3.org/2000/svg\" height=\"24px\"viewBox=\"0 0 24 24\"\n",
              "       width=\"24px\">\n",
              "    <path d=\"M0 0h24v24H0V0z\" fill=\"none\"/>\n",
              "    <path d=\"M18.56 5.44l.94 2.06.94-2.06 2.06-.94-2.06-.94-.94-2.06-.94 2.06-2.06.94zm-11 1L8.5 8.5l.94-2.06 2.06-.94-2.06-.94L8.5 2.5l-.94 2.06-2.06.94zm10 10l.94 2.06.94-2.06 2.06-.94-2.06-.94-.94-2.06-.94 2.06-2.06.94z\"/><path d=\"M17.41 7.96l-1.37-1.37c-.4-.4-.92-.59-1.43-.59-.52 0-1.04.2-1.43.59L10.3 9.45l-7.72 7.72c-.78.78-.78 2.05 0 2.83L4 21.41c.39.39.9.59 1.41.59.51 0 1.02-.2 1.41-.59l7.78-7.78 2.81-2.81c.8-.78.8-2.07 0-2.86zM5.41 20L4 18.59l7.72-7.72 1.47 1.35L5.41 20z\"/>\n",
              "  </svg>\n",
              "      </button>\n",
              "      \n",
              "  <style>\n",
              "    .colab-df-container {\n",
              "      display:flex;\n",
              "      flex-wrap:wrap;\n",
              "      gap: 12px;\n",
              "    }\n",
              "\n",
              "    .colab-df-convert {\n",
              "      background-color: #E8F0FE;\n",
              "      border: none;\n",
              "      border-radius: 50%;\n",
              "      cursor: pointer;\n",
              "      display: none;\n",
              "      fill: #1967D2;\n",
              "      height: 32px;\n",
              "      padding: 0 0 0 0;\n",
              "      width: 32px;\n",
              "    }\n",
              "\n",
              "    .colab-df-convert:hover {\n",
              "      background-color: #E2EBFA;\n",
              "      box-shadow: 0px 1px 2px rgba(60, 64, 67, 0.3), 0px 1px 3px 1px rgba(60, 64, 67, 0.15);\n",
              "      fill: #174EA6;\n",
              "    }\n",
              "\n",
              "    [theme=dark] .colab-df-convert {\n",
              "      background-color: #3B4455;\n",
              "      fill: #D2E3FC;\n",
              "    }\n",
              "\n",
              "    [theme=dark] .colab-df-convert:hover {\n",
              "      background-color: #434B5C;\n",
              "      box-shadow: 0px 1px 3px 1px rgba(0, 0, 0, 0.15);\n",
              "      filter: drop-shadow(0px 1px 2px rgba(0, 0, 0, 0.3));\n",
              "      fill: #FFFFFF;\n",
              "    }\n",
              "  </style>\n",
              "\n",
              "      <script>\n",
              "        const buttonEl =\n",
              "          document.querySelector('#df-483e368b-ea6a-41d9-a7cd-2a98393dfae6 button.colab-df-convert');\n",
              "        buttonEl.style.display =\n",
              "          google.colab.kernel.accessAllowed ? 'block' : 'none';\n",
              "\n",
              "        async function convertToInteractive(key) {\n",
              "          const element = document.querySelector('#df-483e368b-ea6a-41d9-a7cd-2a98393dfae6');\n",
              "          const dataTable =\n",
              "            await google.colab.kernel.invokeFunction('convertToInteractive',\n",
              "                                                     [key], {});\n",
              "          if (!dataTable) return;\n",
              "\n",
              "          const docLinkHtml = 'Like what you see? Visit the ' +\n",
              "            '<a target=\"_blank\" href=https://colab.research.google.com/notebooks/data_table.ipynb>data table notebook</a>'\n",
              "            + ' to learn more about interactive tables.';\n",
              "          element.innerHTML = '';\n",
              "          dataTable['output_type'] = 'display_data';\n",
              "          await google.colab.output.renderOutput(dataTable, element);\n",
              "          const docLink = document.createElement('div');\n",
              "          docLink.innerHTML = docLinkHtml;\n",
              "          element.appendChild(docLink);\n",
              "        }\n",
              "      </script>\n",
              "    </div>\n",
              "  </div>\n",
              "  "
            ]
          },
          "metadata": {},
          "execution_count": 8
        }
      ]
    },
    {
      "cell_type": "markdown",
      "source": [
        "From above we note that:\n",
        "Cast column have many names and no single name is specified also we have to compare between movies and tv shows not between different casts, so will drop this column"
      ],
      "metadata": {
        "id": "MRkjePUGV_HC"
      }
    },
    {
      "cell_type": "markdown",
      "source": [
        "##Data cleaning and Feature Engineering"
      ],
      "metadata": {
        "id": "QBRIiqdjSSOD"
      }
    },
    {
      "cell_type": "code",
      "source": [
        "netflix.info()"
      ],
      "metadata": {
        "id": "o56DLlHJWe4C",
        "colab": {
          "base_uri": "https://localhost:8080/"
        },
        "outputId": "f4208fc6-d71f-4996-84a1-32ab0503425e"
      },
      "execution_count": 9,
      "outputs": [
        {
          "output_type": "stream",
          "name": "stdout",
          "text": [
            "<class 'pandas.core.frame.DataFrame'>\n",
            "RangeIndex: 7787 entries, 0 to 7786\n",
            "Data columns (total 12 columns):\n",
            " #   Column        Non-Null Count  Dtype         \n",
            "---  ------        --------------  -----         \n",
            " 0   show_id       7787 non-null   object        \n",
            " 1   type          7787 non-null   object        \n",
            " 2   title         7787 non-null   object        \n",
            " 3   director      5398 non-null   object        \n",
            " 4   cast          7069 non-null   object        \n",
            " 5   country       7280 non-null   object        \n",
            " 6   date_added    7777 non-null   datetime64[ns]\n",
            " 7   release_year  7787 non-null   int64         \n",
            " 8   rating        7780 non-null   object        \n",
            " 9   duration      7787 non-null   object        \n",
            " 10  listed_in     7787 non-null   object        \n",
            " 11  description   7787 non-null   object        \n",
            "dtypes: datetime64[ns](1), int64(1), object(10)\n",
            "memory usage: 730.2+ KB\n"
          ]
        }
      ]
    },
    {
      "cell_type": "markdown",
      "source": [
        "columns with null values: director, cast, country, date_added, rating"
      ],
      "metadata": {
        "id": "KHJEEUI2W5C5"
      }
    },
    {
      "cell_type": "code",
      "source": [
        "(netflix[\"director\"].value_counts())\n",
        "#here we note that we have total 4049 different directors so this column is not important for us."
      ],
      "metadata": {
        "id": "x4bC5tWTW4cN",
        "colab": {
          "base_uri": "https://localhost:8080/"
        },
        "outputId": "d9094b59-ccd4-4770-ad27-2b95026c57c7"
      },
      "execution_count": 10,
      "outputs": [
        {
          "output_type": "execute_result",
          "data": {
            "text/plain": [
              "Raúl Campos, Jan Suter    18\n",
              "Marcus Raboy              16\n",
              "Jay Karas                 14\n",
              "Cathy Garcia-Molina       13\n",
              "Youssef Chahine           12\n",
              "                          ..\n",
              "Vibhu Virender Puri        1\n",
              "Lucien Jean-Baptiste       1\n",
              "Jason Krawczyk             1\n",
              "Quinn Lasher               1\n",
              "Sam Dunn                   1\n",
              "Name: director, Length: 4049, dtype: int64"
            ]
          },
          "metadata": {},
          "execution_count": 10
        }
      ]
    },
    {
      "cell_type": "code",
      "source": [
        "(netflix[\"cast\"].value_counts())\n",
        "#here we note that we have total 6831 different sets of casts so this column is also not important for us."
      ],
      "metadata": {
        "id": "KGOoSeDOuv11",
        "colab": {
          "base_uri": "https://localhost:8080/"
        },
        "outputId": "41c6600a-d314-4d5c-c859-9b242448a696"
      },
      "execution_count": 11,
      "outputs": [
        {
          "output_type": "execute_result",
          "data": {
            "text/plain": [
              "David Attenborough                                                                                                                                                            18\n",
              "Samuel West                                                                                                                                                                   10\n",
              "Jeff Dunham                                                                                                                                                                    7\n",
              "Kevin Hart                                                                                                                                                                     6\n",
              "Michela Luci, Jamie Watson, Eric Peterson, Anna Claire Bartlam, Nicolas Aqui, Cory Doran, Julie Lemieux, Derek McGrath                                                         6\n",
              "                                                                                                                                                                              ..\n",
              "Hee-Jin Lee, Hae-seong Kwon, Paul Stafford, Mi-ji Lee, Ik-tae Kim, Ki-hyeon Kim                                                                                                1\n",
              "Tammy Chen, Kingone Wang, Hsieh Kun Da, Chuang Kai-Hsun, Jenna Wang                                                                                                            1\n",
              "James Purefoy, Michael Kenneth Williams, Jimmi Simpson, Bill Sage, Christina Hendricks, Pollyanna McIntosh, Jeff Pope, Neil Sandilands, Henry G. Sanders, Enrique Murciano     1\n",
              "Awie, Arab Khalid, Sharwani Ns, Tj Isa, Delimawati, Zul Ariffin, Uqasha Senrose, Ropie Cecupak                                                                                 1\n",
              "Adriano Zumbo, Rachel Khoo                                                                                                                                                     1\n",
              "Name: cast, Length: 6831, dtype: int64"
            ]
          },
          "metadata": {},
          "execution_count": 11
        }
      ]
    },
    {
      "cell_type": "code",
      "source": [
        "#null values in country\n",
        "(netflix[\"country\"].value_counts())\n",
        "#here we note that we have total 4049 different directors so this column is not important for us.\n",
        "\n",
        "\"\"\"\n",
        "we note that some countries are very dominant and so we will replace the null values in the country column with united states assuming that \n",
        "as most of the entries are of us so their is a higher probability that those missing entries are also of us.\n",
        "\"\"\""
      ],
      "metadata": {
        "id": "n7KXpfMbvPN8",
        "colab": {
          "base_uri": "https://localhost:8080/",
          "height": 55
        },
        "outputId": "8246f150-6559-4456-a305-cf61ac58adc4"
      },
      "execution_count": 12,
      "outputs": [
        {
          "output_type": "execute_result",
          "data": {
            "text/plain": [
              "'\\nwe note that some countries are very dominant and so we will replace the null values in the country column with united states assuming that \\nas most of the entries are of us so their is a higher probability that those missing entries are also of us.\\n'"
            ],
            "application/vnd.google.colaboratory.intrinsic+json": {
              "type": "string"
            }
          },
          "metadata": {},
          "execution_count": 12
        }
      ]
    },
    {
      "cell_type": "code",
      "source": [
        "print(pd.crosstab(netflix[\"country\"],netflix[\"type\"]).sort_values(by=\"Movie\",ascending=False))\n",
        "print(\"\\n\\n\\n\\n\")\n",
        "print(pd.crosstab(netflix[\"country\"],netflix[\"type\"]).sort_values(by=\"TV Show\",ascending=False))\n"
      ],
      "metadata": {
        "id": "BMxm07JKv6eK",
        "colab": {
          "base_uri": "https://localhost:8080/"
        },
        "outputId": "b0f79de8-9770-4464-adac-9d492acb5a82"
      },
      "execution_count": 13,
      "outputs": [
        {
          "output_type": "stream",
          "name": "stdout",
          "text": [
            "type                             Movie  TV Show\n",
            "country                                        \n",
            "United States                     1850      705\n",
            "India                              852       71\n",
            "United Kingdom                     193      204\n",
            "Canada                             118       59\n",
            "Egypt                               89       12\n",
            "...                                ...      ...\n",
            "China, United Kingdom                0        1\n",
            "Colombia, Mexico, United States      0        2\n",
            "Colombia, United States              0        1\n",
            "Croatia                              0        1\n",
            "United States, France, Canada        0        1\n",
            "\n",
            "[681 rows x 2 columns]\n",
            "\n",
            "\n",
            "\n",
            "\n",
            "\n",
            "type                                                Movie  TV Show\n",
            "country                                                           \n",
            "United States                                        1850      705\n",
            "United Kingdom                                        193      204\n",
            "Japan                                                  69      157\n",
            "South Korea                                            36      147\n",
            "India                                                 852       71\n",
            "...                                                   ...      ...\n",
            "India, United Kingdom, China, Canada, Japan, So...      1        0\n",
            "India, United Kingdom, Canada, United States            1        0\n",
            "India, United Kingdom                                   1        0\n",
            "India, Turkey                                           1        0\n",
            "Zimbabwe                                                1        0\n",
            "\n",
            "[681 rows x 2 columns]\n"
          ]
        }
      ]
    },
    {
      "cell_type": "code",
      "source": [
        "#null values in rating column\n",
        "(netflix[\"rating\"].value_counts())"
      ],
      "metadata": {
        "id": "NfQ_I2AodVlm",
        "colab": {
          "base_uri": "https://localhost:8080/"
        },
        "outputId": "812883f4-3452-41aa-d95e-9068edfd9c27"
      },
      "execution_count": 14,
      "outputs": [
        {
          "output_type": "execute_result",
          "data": {
            "text/plain": [
              "TV-MA       2863\n",
              "TV-14       1931\n",
              "TV-PG        806\n",
              "R            665\n",
              "PG-13        386\n",
              "TV-Y         280\n",
              "TV-Y7        271\n",
              "PG           247\n",
              "TV-G         194\n",
              "NR            84\n",
              "G             39\n",
              "TV-Y7-FV       6\n",
              "UR             5\n",
              "NC-17          3\n",
              "Name: rating, dtype: int64"
            ]
          },
          "metadata": {},
          "execution_count": 14
        }
      ]
    },
    {
      "cell_type": "code",
      "source": [
        "print(pd.crosstab(netflix[\"rating\"],netflix[\"type\"]).sort_values(by=\"Movie\",ascending=False))\n",
        "print(\"\\n\\n\\n\\n\")\n",
        "print(pd.crosstab(netflix[\"rating\"],netflix[\"type\"]).sort_values(by=\"TV Show\",ascending=False))\n",
        "\n",
        "#Here we note that for both movies and TV shows the rating which had appeared maxiimum number of times is TV-MA so we will replace null value with this"
      ],
      "metadata": {
        "id": "wgL3hwLWdv4F",
        "colab": {
          "base_uri": "https://localhost:8080/"
        },
        "outputId": "1acbb0d9-43ec-4544-ce9a-512862511542"
      },
      "execution_count": 15,
      "outputs": [
        {
          "output_type": "stream",
          "name": "stdout",
          "text": [
            "type      Movie  TV Show\n",
            "rating                  \n",
            "TV-MA      1845     1018\n",
            "TV-14      1272      659\n",
            "R           663        2\n",
            "TV-PG       505      301\n",
            "PG-13       386        0\n",
            "PG          247        0\n",
            "TV-Y        117      163\n",
            "TV-G        111       83\n",
            "TV-Y7        95      176\n",
            "NR           79        5\n",
            "G            39        0\n",
            "TV-Y7-FV      5        1\n",
            "UR            5        0\n",
            "NC-17         3        0\n",
            "\n",
            "\n",
            "\n",
            "\n",
            "\n",
            "type      Movie  TV Show\n",
            "rating                  \n",
            "TV-MA      1845     1018\n",
            "TV-14      1272      659\n",
            "TV-PG       505      301\n",
            "TV-Y7        95      176\n",
            "TV-Y        117      163\n",
            "TV-G        111       83\n",
            "NR           79        5\n",
            "R           663        2\n",
            "TV-Y7-FV      5        1\n",
            "G            39        0\n",
            "NC-17         3        0\n",
            "PG          247        0\n",
            "PG-13       386        0\n",
            "UR            5        0\n"
          ]
        }
      ]
    },
    {
      "cell_type": "markdown",
      "source": [
        "###removing null values from date time column\n",
        "note that in date only year and month is imporatant but the day is not so:\n",
        "\n",
        "we will first divide the date time column into three columns using feature engineering.\n",
        "Then we will add only two new columns for month and year and remove null values from other two columns accordingly."
      ],
      "metadata": {
        "id": "WxHyVcmXXNs0"
      }
    },
    {
      "cell_type": "code",
      "execution_count": 16,
      "metadata": {
        "id": "cXgSy3A9rDMH"
      },
      "outputs": [],
      "source": [
        "from datetime import datetime\n",
        "from datetime import date"
      ]
    },
    {
      "cell_type": "code",
      "execution_count": 17,
      "metadata": {
        "id": "edqrq-5xrDMI"
      },
      "outputs": [],
      "source": [
        "def separate_date(date_time):\n",
        "  years,months,dates=[],[],[]\n",
        "  for i in date_time:\n",
        "    years.append(i.year)\n",
        "    months.append(i.month)\n",
        "    dates.append(i.day)\n",
        "  return years,months,dates\n",
        "  "
      ]
    },
    {
      "cell_type": "code",
      "execution_count": 18,
      "metadata": {
        "id": "YGWRYshnrDMJ"
      },
      "outputs": [],
      "source": [
        "years,months,dates=separate_date(netflix[\"date_added\"])\n",
        "netflix[\"year_added\"]=years\n",
        "netflix[\"month_added\"]=months"
      ]
    },
    {
      "cell_type": "markdown",
      "source": [
        "Here I am dropping some columns:\n",
        "\n",
        "- director, casts: as mentioned earlier they are not useful for analysis.\n",
        "- date_added: we made two new columns from this, which are more useful.\n",
        "- show_id: It is just an id for show and it is different for every entry so it is also not important in our analysis.\n",
        "\n"
      ],
      "metadata": {
        "id": "gTJSnISKYi7y"
      }
    },
    {
      "cell_type": "code",
      "source": [
        "netflix.drop([\"director\",\"date_added\",\"show_id\", \"cast\"], axis=1, inplace=True)\n",
        "#now I droppped some columns"
      ],
      "metadata": {
        "id": "IGeICTKDrDMJ"
      },
      "execution_count": 19,
      "outputs": []
    },
    {
      "cell_type": "code",
      "source": [
        "count_replace=[\"country\",\"rating\",\"year_added\",\"month_added\"]  #these the columns having null values."
      ],
      "metadata": {
        "id": "n05PTsxwrDMK"
      },
      "execution_count": 20,
      "outputs": []
    },
    {
      "cell_type": "markdown",
      "source": [
        "###Now to remove null values from the above mentioned columns:\n",
        "I will replace the null value with most frequently occuring value in that column,\n",
        "but before that I will make assure that the value in occuring frrequntly in case of both \"Tv shows\" and \"Movie\""
      ],
      "metadata": {
        "id": "yYEGoxXOZ8cV"
      }
    },
    {
      "cell_type": "code",
      "source": [
        "netflix_shows= netflix[netflix[\"type\"]==\"TV Show\"]\n",
        "netflix_movies=netflix[netflix[\"type\"]==\"Movie\"]"
      ],
      "metadata": {
        "id": "Ytqv8nTFrDML"
      },
      "execution_count": 21,
      "outputs": []
    },
    {
      "cell_type": "code",
      "source": [
        "for col in count_replace:\n",
        "  print(f\"\\n\\n\\n\\nfor {col} : \\n\")\n",
        "  print(f\"Value repeating maximum times in case of tv shows: \",netflix_shows[col].value_counts().index[0])\n",
        "  print(f\"Value repeating maximum times in case of movies: \",netflix_movies[col].value_counts().index[0])\n"
      ],
      "metadata": {
        "id": "88INTj-Qaqes",
        "colab": {
          "base_uri": "https://localhost:8080/"
        },
        "outputId": "133cad4d-636d-475c-adb5-0b76eb58f5e4"
      },
      "execution_count": 22,
      "outputs": [
        {
          "output_type": "stream",
          "name": "stdout",
          "text": [
            "\n",
            "\n",
            "\n",
            "\n",
            "for country : \n",
            "\n",
            "Value repeating maximum times in case of tv shows:  United States\n",
            "Value repeating maximum times in case of movies:  United States\n",
            "\n",
            "\n",
            "\n",
            "\n",
            "for rating : \n",
            "\n",
            "Value repeating maximum times in case of tv shows:  TV-MA\n",
            "Value repeating maximum times in case of movies:  TV-MA\n",
            "\n",
            "\n",
            "\n",
            "\n",
            "for year_added : \n",
            "\n",
            "Value repeating maximum times in case of tv shows:  2020.0\n",
            "Value repeating maximum times in case of movies:  2019.0\n",
            "\n",
            "\n",
            "\n",
            "\n",
            "for month_added : \n",
            "\n",
            "Value repeating maximum times in case of tv shows:  12.0\n",
            "Value repeating maximum times in case of movies:  1.0\n"
          ]
        }
      ]
    },
    {
      "cell_type": "markdown",
      "source": [
        "Inference: We note that the repeating values are not always same for TV show and movies"
      ],
      "metadata": {
        "id": "IZDA09FGcY0i"
      }
    },
    {
      "cell_type": "code",
      "source": [
        "netflix.info()"
      ],
      "metadata": {
        "id": "0FEWn-lM5c3t",
        "colab": {
          "base_uri": "https://localhost:8080/"
        },
        "outputId": "a8a4bd09-157d-4ec6-efee-af73c90b53c5"
      },
      "execution_count": 23,
      "outputs": [
        {
          "output_type": "stream",
          "name": "stdout",
          "text": [
            "<class 'pandas.core.frame.DataFrame'>\n",
            "RangeIndex: 7787 entries, 0 to 7786\n",
            "Data columns (total 10 columns):\n",
            " #   Column        Non-Null Count  Dtype  \n",
            "---  ------        --------------  -----  \n",
            " 0   type          7787 non-null   object \n",
            " 1   title         7787 non-null   object \n",
            " 2   country       7280 non-null   object \n",
            " 3   release_year  7787 non-null   int64  \n",
            " 4   rating        7780 non-null   object \n",
            " 5   duration      7787 non-null   object \n",
            " 6   listed_in     7787 non-null   object \n",
            " 7   description   7787 non-null   object \n",
            " 8   year_added    7777 non-null   float64\n",
            " 9   month_added   7777 non-null   float64\n",
            "dtypes: float64(2), int64(1), object(7)\n",
            "memory usage: 608.5+ KB\n"
          ]
        }
      ]
    },
    {
      "cell_type": "code",
      "source": [
        "\"\"\"netflix.set_value((netflix[\"type\"]==\"TV Show\"),\"month_added\", 10)\n",
        "netflix.at[(netflix[\"type\"]==\"TV Show\"),\"month_added\"].fillna(12,inplace=True)\"\"\""
      ],
      "metadata": {
        "id": "T6kUpMOXJuaw",
        "colab": {
          "base_uri": "https://localhost:8080/",
          "height": 36
        },
        "outputId": "3eaed6e6-0581-47ce-fe6a-1b57aba2a856"
      },
      "execution_count": 24,
      "outputs": [
        {
          "output_type": "execute_result",
          "data": {
            "text/plain": [
              "'netflix.set_value((netflix[\"type\"]==\"TV Show\"),\"month_added\", 10)\\nnetflix.at[(netflix[\"type\"]==\"TV Show\"),\"month_added\"].fillna(12,inplace=True)'"
            ],
            "application/vnd.google.colaboratory.intrinsic+json": {
              "type": "string"
            }
          },
          "metadata": {},
          "execution_count": 24
        }
      ]
    },
    {
      "cell_type": "code",
      "source": [
        "netflix.info()\n"
      ],
      "metadata": {
        "id": "HOvyO4qecmmV",
        "colab": {
          "base_uri": "https://localhost:8080/"
        },
        "outputId": "4e2f1397-df94-4b8e-8e4d-5fd5627707de"
      },
      "execution_count": 25,
      "outputs": [
        {
          "output_type": "stream",
          "name": "stdout",
          "text": [
            "<class 'pandas.core.frame.DataFrame'>\n",
            "RangeIndex: 7787 entries, 0 to 7786\n",
            "Data columns (total 10 columns):\n",
            " #   Column        Non-Null Count  Dtype  \n",
            "---  ------        --------------  -----  \n",
            " 0   type          7787 non-null   object \n",
            " 1   title         7787 non-null   object \n",
            " 2   country       7280 non-null   object \n",
            " 3   release_year  7787 non-null   int64  \n",
            " 4   rating        7780 non-null   object \n",
            " 5   duration      7787 non-null   object \n",
            " 6   listed_in     7787 non-null   object \n",
            " 7   description   7787 non-null   object \n",
            " 8   year_added    7777 non-null   float64\n",
            " 9   month_added   7777 non-null   float64\n",
            "dtypes: float64(2), int64(1), object(7)\n",
            "memory usage: 608.5+ KB\n"
          ]
        }
      ]
    },
    {
      "cell_type": "code",
      "source": [],
      "metadata": {
        "id": "fQh0zM_ydEx-"
      },
      "execution_count": 25,
      "outputs": []
    },
    {
      "cell_type": "code",
      "execution_count": 26,
      "metadata": {
        "id": "FRLiE9GSrDMM",
        "colab": {
          "base_uri": "https://localhost:8080/"
        },
        "outputId": "42bde6b3-628b-4d53-9f90-9b12302c1aaa"
      },
      "outputs": [
        {
          "output_type": "execute_result",
          "data": {
            "text/plain": [
              "['country', 'rating', 'year_added', 'month_added']"
            ]
          },
          "metadata": {},
          "execution_count": 26
        }
      ],
      "source": [
        "\n",
        "#now we note that all the features in our data are numerical\n",
        "count_replace"
      ]
    },
    {
      "cell_type": "code",
      "source": [
        "def print_null_percent(df):\n",
        "  null_percent=pd.Series()\n",
        "  for col in df.columns:\n",
        "    null_percent[col]=((df.shape[0]-df[col].count())/(df.shape[0]))*100\n",
        "  print(\"columns with null values\\n\",null_percent[null_percent!=0])"
      ],
      "metadata": {
        "id": "BjNBHTwSeYqg"
      },
      "execution_count": 27,
      "outputs": []
    },
    {
      "cell_type": "code",
      "execution_count": 28,
      "metadata": {
        "id": "fL4jwBWRrDMN"
      },
      "outputs": [],
      "source": [
        "\n",
        "def cleaning(df,continuous_col=[],discrete_col=[],print_null=True,th=20.0):\n",
        "  \"\"\"\n",
        "  this function removes all the null values from the data \n",
        "  \"\"\"\n",
        "\n",
        "  print(f\"before cleaning\\n\")\n",
        "  print(f\"shape of data: {df.shape}\")\n",
        "  if(print_null):\n",
        "    print_null_percent(df)\n",
        "  \n",
        "  #step1\n",
        "  #preserving columns having at least 20% of not null values\n",
        "  df.dropna(axis=1,inplace=True,thresh=((th/100.0)*df.shape[0]))\n",
        "  #preserving rows having at least 20% of not null values\n",
        "  df.dropna(axis=0,inplace=True,thresh=((th/100.0)*df.shape[1]))\n",
        "\n",
        "  #step2\n",
        "  df.drop_duplicates(inplace=True,ignore_index=True)\n",
        "  \n",
        "\n",
        "  #step3\n",
        "  #removing all the null values\n",
        "  for c1 in df.columns:\n",
        "\n",
        "    #i.e it is an non catagorical column\n",
        "    if c1 in continuous_col: \n",
        "      df[c1].fillna(df[c1].mean(),inplace=True)\n",
        "    else:\n",
        "      df[c1].fillna(df[c1].value_counts().idxmax(),inplace=True)\n",
        "\n",
        "  print(f\"\\n\\nAfter cleaning the data\\n\")\n",
        "  print(f\"shape of data: {df.shape}\")\n",
        "  print_null_percent(df)\n",
        "  return df"
      ]
    },
    {
      "cell_type": "code",
      "execution_count": 29,
      "metadata": {
        "id": "AQLadtZRrDMP",
        "colab": {
          "base_uri": "https://localhost:8080/"
        },
        "outputId": "5bb4f6e8-e3f8-4986-b50d-ad7e80a3b0a3"
      },
      "outputs": [
        {
          "output_type": "stream",
          "name": "stdout",
          "text": [
            "before cleaning\n",
            "\n",
            "shape of data: (2410, 10)\n",
            "columns with null values\n",
            " country        11.493776\n",
            "rating          0.082988\n",
            "year_added      0.414938\n",
            "month_added     0.414938\n",
            "dtype: float64\n",
            "\n",
            "\n",
            "After cleaning the data\n",
            "\n",
            "shape of data: (2410, 10)\n",
            "columns with null values\n",
            " Series([], dtype: float64)\n"
          ]
        },
        {
          "output_type": "stream",
          "name": "stderr",
          "text": [
            "<ipython-input-27-530123f6daa5>:2: DeprecationWarning: The default dtype for empty Series will be 'object' instead of 'float64' in a future version. Specify a dtype explicitly to silence this warning.\n",
            "  null_percent=pd.Series()\n",
            "/usr/local/lib/python3.8/dist-packages/pandas/util/_decorators.py:311: SettingWithCopyWarning: \n",
            "A value is trying to be set on a copy of a slice from a DataFrame\n",
            "\n",
            "See the caveats in the documentation: https://pandas.pydata.org/pandas-docs/stable/user_guide/indexing.html#returning-a-view-versus-a-copy\n",
            "  return func(*args, **kwargs)\n",
            "/usr/local/lib/python3.8/dist-packages/pandas/core/generic.py:6392: SettingWithCopyWarning: \n",
            "A value is trying to be set on a copy of a slice from a DataFrame\n",
            "\n",
            "See the caveats in the documentation: https://pandas.pydata.org/pandas-docs/stable/user_guide/indexing.html#returning-a-view-versus-a-copy\n",
            "  return self._update_inplace(result)\n"
          ]
        }
      ],
      "source": [
        "netflix_shows=cleaning(netflix_shows,[],count_replace,th=20)"
      ]
    },
    {
      "cell_type": "code",
      "source": [
        "netflix_movies=cleaning(netflix_movies,[],count_replace,th=20)"
      ],
      "metadata": {
        "id": "exzzoA6-rDMQ",
        "colab": {
          "base_uri": "https://localhost:8080/"
        },
        "outputId": "73aecfea-24e1-4a46-8e40-8b736c7d37ed"
      },
      "execution_count": 30,
      "outputs": [
        {
          "output_type": "stream",
          "name": "stdout",
          "text": [
            "before cleaning\n",
            "\n",
            "shape of data: (5377, 10)\n",
            "columns with null values\n",
            " country    4.277478\n",
            "rating     0.092989\n",
            "dtype: float64\n",
            "\n",
            "\n",
            "After cleaning the data\n",
            "\n",
            "shape of data: (5377, 10)\n",
            "columns with null values\n",
            " Series([], dtype: float64)\n"
          ]
        },
        {
          "output_type": "stream",
          "name": "stderr",
          "text": [
            "<ipython-input-27-530123f6daa5>:2: DeprecationWarning: The default dtype for empty Series will be 'object' instead of 'float64' in a future version. Specify a dtype explicitly to silence this warning.\n",
            "  null_percent=pd.Series()\n"
          ]
        }
      ]
    },
    {
      "cell_type": "code",
      "source": [
        "netflix=pd.concat([netflix_shows,netflix_movies])\n",
        "netflix"
      ],
      "metadata": {
        "id": "lYx6kxJYSR8w",
        "colab": {
          "base_uri": "https://localhost:8080/",
          "height": 641
        },
        "outputId": "322aa048-3ff1-4327-ec41-30e7c9517813"
      },
      "execution_count": 31,
      "outputs": [
        {
          "output_type": "execute_result",
          "data": {
            "text/plain": [
              "         type                                    title  \\\n",
              "0     TV Show                                       3%   \n",
              "1     TV Show                                       46   \n",
              "2     TV Show                                     1983   \n",
              "3     TV Show                                     1994   \n",
              "4     TV Show                                   Feb-09   \n",
              "...       ...                                      ...   \n",
              "5372    Movie                                     Zoom   \n",
              "5373    Movie                                     Zozo   \n",
              "5374    Movie                                   Zubaan   \n",
              "5375    Movie                        Zulu Man in Japan   \n",
              "5376    Movie  ZZ TOP: THAT LITTLE OL' BAND FROM TEXAS   \n",
              "\n",
              "                                                country  release_year rating  \\\n",
              "0                                                Brazil          2020  TV-MA   \n",
              "1                                                Turkey          2016  TV-MA   \n",
              "2                                 Poland, United States          2018  TV-MA   \n",
              "3                                                Mexico          2019  TV-MA   \n",
              "4                                         United States          2018  TV-14   \n",
              "...                                                 ...           ...    ...   \n",
              "5372                                      United States          2006     PG   \n",
              "5373  Sweden, Czech Republic, United Kingdom, Denmar...          2005  TV-MA   \n",
              "5374                                              India          2015  TV-14   \n",
              "5375                                      United States          2019  TV-MA   \n",
              "5376              United Kingdom, Canada, United States          2019  TV-MA   \n",
              "\n",
              "       duration                                          listed_in  \\\n",
              "0     4 Seasons  International TV Shows, TV Dramas, TV Sci-Fi &...   \n",
              "1      1 Season    International TV Shows, TV Dramas, TV Mysteries   \n",
              "2      1 Season  Crime TV Shows, International TV Shows, TV Dramas   \n",
              "3      1 Season  Crime TV Shows, Docuseries, International TV S...   \n",
              "4      1 Season                  International TV Shows, TV Dramas   \n",
              "...         ...                                                ...   \n",
              "5372     88 min                 Children & Family Movies, Comedies   \n",
              "5373     99 min                       Dramas, International Movies   \n",
              "5374    111 min     Dramas, International Movies, Music & Musicals   \n",
              "5375     44 min  Documentaries, International Movies, Music & M...   \n",
              "5376     90 min                    Documentaries, Music & Musicals   \n",
              "\n",
              "                                            description  year_added  \\\n",
              "0     In a future where the elite inhabit an island ...      2020.0   \n",
              "1     A genetics professor experiments with a treatm...      2017.0   \n",
              "2     In this dark alt-history thriller, a naïve law...      2018.0   \n",
              "3     Archival video and new interviews examine Mexi...      2019.0   \n",
              "4     As a psychology professor faces Alzheimer's, h...      2019.0   \n",
              "...                                                 ...         ...   \n",
              "5372  Dragged from civilian life, a former superhero...      2020.0   \n",
              "5373  When Lebanon's Civil War deprives Zozo of his ...      2020.0   \n",
              "5374  A scrappy but poor boy worms his way into a ty...      2019.0   \n",
              "5375  In this documentary, South African rapper Nast...      2020.0   \n",
              "5376  This documentary delves into the mystique behi...      2020.0   \n",
              "\n",
              "      month_added  \n",
              "0             8.0  \n",
              "1             7.0  \n",
              "2            11.0  \n",
              "3             5.0  \n",
              "4             3.0  \n",
              "...           ...  \n",
              "5372          1.0  \n",
              "5373         10.0  \n",
              "5374          3.0  \n",
              "5375          9.0  \n",
              "5376          3.0  \n",
              "\n",
              "[7787 rows x 10 columns]"
            ],
            "text/html": [
              "\n",
              "  <div id=\"df-00661be7-55cb-438a-86a7-2695862c1f1b\">\n",
              "    <div class=\"colab-df-container\">\n",
              "      <div>\n",
              "<style scoped>\n",
              "    .dataframe tbody tr th:only-of-type {\n",
              "        vertical-align: middle;\n",
              "    }\n",
              "\n",
              "    .dataframe tbody tr th {\n",
              "        vertical-align: top;\n",
              "    }\n",
              "\n",
              "    .dataframe thead th {\n",
              "        text-align: right;\n",
              "    }\n",
              "</style>\n",
              "<table border=\"1\" class=\"dataframe\">\n",
              "  <thead>\n",
              "    <tr style=\"text-align: right;\">\n",
              "      <th></th>\n",
              "      <th>type</th>\n",
              "      <th>title</th>\n",
              "      <th>country</th>\n",
              "      <th>release_year</th>\n",
              "      <th>rating</th>\n",
              "      <th>duration</th>\n",
              "      <th>listed_in</th>\n",
              "      <th>description</th>\n",
              "      <th>year_added</th>\n",
              "      <th>month_added</th>\n",
              "    </tr>\n",
              "  </thead>\n",
              "  <tbody>\n",
              "    <tr>\n",
              "      <th>0</th>\n",
              "      <td>TV Show</td>\n",
              "      <td>3%</td>\n",
              "      <td>Brazil</td>\n",
              "      <td>2020</td>\n",
              "      <td>TV-MA</td>\n",
              "      <td>4 Seasons</td>\n",
              "      <td>International TV Shows, TV Dramas, TV Sci-Fi &amp;...</td>\n",
              "      <td>In a future where the elite inhabit an island ...</td>\n",
              "      <td>2020.0</td>\n",
              "      <td>8.0</td>\n",
              "    </tr>\n",
              "    <tr>\n",
              "      <th>1</th>\n",
              "      <td>TV Show</td>\n",
              "      <td>46</td>\n",
              "      <td>Turkey</td>\n",
              "      <td>2016</td>\n",
              "      <td>TV-MA</td>\n",
              "      <td>1 Season</td>\n",
              "      <td>International TV Shows, TV Dramas, TV Mysteries</td>\n",
              "      <td>A genetics professor experiments with a treatm...</td>\n",
              "      <td>2017.0</td>\n",
              "      <td>7.0</td>\n",
              "    </tr>\n",
              "    <tr>\n",
              "      <th>2</th>\n",
              "      <td>TV Show</td>\n",
              "      <td>1983</td>\n",
              "      <td>Poland, United States</td>\n",
              "      <td>2018</td>\n",
              "      <td>TV-MA</td>\n",
              "      <td>1 Season</td>\n",
              "      <td>Crime TV Shows, International TV Shows, TV Dramas</td>\n",
              "      <td>In this dark alt-history thriller, a naïve law...</td>\n",
              "      <td>2018.0</td>\n",
              "      <td>11.0</td>\n",
              "    </tr>\n",
              "    <tr>\n",
              "      <th>3</th>\n",
              "      <td>TV Show</td>\n",
              "      <td>1994</td>\n",
              "      <td>Mexico</td>\n",
              "      <td>2019</td>\n",
              "      <td>TV-MA</td>\n",
              "      <td>1 Season</td>\n",
              "      <td>Crime TV Shows, Docuseries, International TV S...</td>\n",
              "      <td>Archival video and new interviews examine Mexi...</td>\n",
              "      <td>2019.0</td>\n",
              "      <td>5.0</td>\n",
              "    </tr>\n",
              "    <tr>\n",
              "      <th>4</th>\n",
              "      <td>TV Show</td>\n",
              "      <td>Feb-09</td>\n",
              "      <td>United States</td>\n",
              "      <td>2018</td>\n",
              "      <td>TV-14</td>\n",
              "      <td>1 Season</td>\n",
              "      <td>International TV Shows, TV Dramas</td>\n",
              "      <td>As a psychology professor faces Alzheimer's, h...</td>\n",
              "      <td>2019.0</td>\n",
              "      <td>3.0</td>\n",
              "    </tr>\n",
              "    <tr>\n",
              "      <th>...</th>\n",
              "      <td>...</td>\n",
              "      <td>...</td>\n",
              "      <td>...</td>\n",
              "      <td>...</td>\n",
              "      <td>...</td>\n",
              "      <td>...</td>\n",
              "      <td>...</td>\n",
              "      <td>...</td>\n",
              "      <td>...</td>\n",
              "      <td>...</td>\n",
              "    </tr>\n",
              "    <tr>\n",
              "      <th>5372</th>\n",
              "      <td>Movie</td>\n",
              "      <td>Zoom</td>\n",
              "      <td>United States</td>\n",
              "      <td>2006</td>\n",
              "      <td>PG</td>\n",
              "      <td>88 min</td>\n",
              "      <td>Children &amp; Family Movies, Comedies</td>\n",
              "      <td>Dragged from civilian life, a former superhero...</td>\n",
              "      <td>2020.0</td>\n",
              "      <td>1.0</td>\n",
              "    </tr>\n",
              "    <tr>\n",
              "      <th>5373</th>\n",
              "      <td>Movie</td>\n",
              "      <td>Zozo</td>\n",
              "      <td>Sweden, Czech Republic, United Kingdom, Denmar...</td>\n",
              "      <td>2005</td>\n",
              "      <td>TV-MA</td>\n",
              "      <td>99 min</td>\n",
              "      <td>Dramas, International Movies</td>\n",
              "      <td>When Lebanon's Civil War deprives Zozo of his ...</td>\n",
              "      <td>2020.0</td>\n",
              "      <td>10.0</td>\n",
              "    </tr>\n",
              "    <tr>\n",
              "      <th>5374</th>\n",
              "      <td>Movie</td>\n",
              "      <td>Zubaan</td>\n",
              "      <td>India</td>\n",
              "      <td>2015</td>\n",
              "      <td>TV-14</td>\n",
              "      <td>111 min</td>\n",
              "      <td>Dramas, International Movies, Music &amp; Musicals</td>\n",
              "      <td>A scrappy but poor boy worms his way into a ty...</td>\n",
              "      <td>2019.0</td>\n",
              "      <td>3.0</td>\n",
              "    </tr>\n",
              "    <tr>\n",
              "      <th>5375</th>\n",
              "      <td>Movie</td>\n",
              "      <td>Zulu Man in Japan</td>\n",
              "      <td>United States</td>\n",
              "      <td>2019</td>\n",
              "      <td>TV-MA</td>\n",
              "      <td>44 min</td>\n",
              "      <td>Documentaries, International Movies, Music &amp; M...</td>\n",
              "      <td>In this documentary, South African rapper Nast...</td>\n",
              "      <td>2020.0</td>\n",
              "      <td>9.0</td>\n",
              "    </tr>\n",
              "    <tr>\n",
              "      <th>5376</th>\n",
              "      <td>Movie</td>\n",
              "      <td>ZZ TOP: THAT LITTLE OL' BAND FROM TEXAS</td>\n",
              "      <td>United Kingdom, Canada, United States</td>\n",
              "      <td>2019</td>\n",
              "      <td>TV-MA</td>\n",
              "      <td>90 min</td>\n",
              "      <td>Documentaries, Music &amp; Musicals</td>\n",
              "      <td>This documentary delves into the mystique behi...</td>\n",
              "      <td>2020.0</td>\n",
              "      <td>3.0</td>\n",
              "    </tr>\n",
              "  </tbody>\n",
              "</table>\n",
              "<p>7787 rows × 10 columns</p>\n",
              "</div>\n",
              "      <button class=\"colab-df-convert\" onclick=\"convertToInteractive('df-00661be7-55cb-438a-86a7-2695862c1f1b')\"\n",
              "              title=\"Convert this dataframe to an interactive table.\"\n",
              "              style=\"display:none;\">\n",
              "        \n",
              "  <svg xmlns=\"http://www.w3.org/2000/svg\" height=\"24px\"viewBox=\"0 0 24 24\"\n",
              "       width=\"24px\">\n",
              "    <path d=\"M0 0h24v24H0V0z\" fill=\"none\"/>\n",
              "    <path d=\"M18.56 5.44l.94 2.06.94-2.06 2.06-.94-2.06-.94-.94-2.06-.94 2.06-2.06.94zm-11 1L8.5 8.5l.94-2.06 2.06-.94-2.06-.94L8.5 2.5l-.94 2.06-2.06.94zm10 10l.94 2.06.94-2.06 2.06-.94-2.06-.94-.94-2.06-.94 2.06-2.06.94z\"/><path d=\"M17.41 7.96l-1.37-1.37c-.4-.4-.92-.59-1.43-.59-.52 0-1.04.2-1.43.59L10.3 9.45l-7.72 7.72c-.78.78-.78 2.05 0 2.83L4 21.41c.39.39.9.59 1.41.59.51 0 1.02-.2 1.41-.59l7.78-7.78 2.81-2.81c.8-.78.8-2.07 0-2.86zM5.41 20L4 18.59l7.72-7.72 1.47 1.35L5.41 20z\"/>\n",
              "  </svg>\n",
              "      </button>\n",
              "      \n",
              "  <style>\n",
              "    .colab-df-container {\n",
              "      display:flex;\n",
              "      flex-wrap:wrap;\n",
              "      gap: 12px;\n",
              "    }\n",
              "\n",
              "    .colab-df-convert {\n",
              "      background-color: #E8F0FE;\n",
              "      border: none;\n",
              "      border-radius: 50%;\n",
              "      cursor: pointer;\n",
              "      display: none;\n",
              "      fill: #1967D2;\n",
              "      height: 32px;\n",
              "      padding: 0 0 0 0;\n",
              "      width: 32px;\n",
              "    }\n",
              "\n",
              "    .colab-df-convert:hover {\n",
              "      background-color: #E2EBFA;\n",
              "      box-shadow: 0px 1px 2px rgba(60, 64, 67, 0.3), 0px 1px 3px 1px rgba(60, 64, 67, 0.15);\n",
              "      fill: #174EA6;\n",
              "    }\n",
              "\n",
              "    [theme=dark] .colab-df-convert {\n",
              "      background-color: #3B4455;\n",
              "      fill: #D2E3FC;\n",
              "    }\n",
              "\n",
              "    [theme=dark] .colab-df-convert:hover {\n",
              "      background-color: #434B5C;\n",
              "      box-shadow: 0px 1px 3px 1px rgba(0, 0, 0, 0.15);\n",
              "      filter: drop-shadow(0px 1px 2px rgba(0, 0, 0, 0.3));\n",
              "      fill: #FFFFFF;\n",
              "    }\n",
              "  </style>\n",
              "\n",
              "      <script>\n",
              "        const buttonEl =\n",
              "          document.querySelector('#df-00661be7-55cb-438a-86a7-2695862c1f1b button.colab-df-convert');\n",
              "        buttonEl.style.display =\n",
              "          google.colab.kernel.accessAllowed ? 'block' : 'none';\n",
              "\n",
              "        async function convertToInteractive(key) {\n",
              "          const element = document.querySelector('#df-00661be7-55cb-438a-86a7-2695862c1f1b');\n",
              "          const dataTable =\n",
              "            await google.colab.kernel.invokeFunction('convertToInteractive',\n",
              "                                                     [key], {});\n",
              "          if (!dataTable) return;\n",
              "\n",
              "          const docLinkHtml = 'Like what you see? Visit the ' +\n",
              "            '<a target=\"_blank\" href=https://colab.research.google.com/notebooks/data_table.ipynb>data table notebook</a>'\n",
              "            + ' to learn more about interactive tables.';\n",
              "          element.innerHTML = '';\n",
              "          dataTable['output_type'] = 'display_data';\n",
              "          await google.colab.output.renderOutput(dataTable, element);\n",
              "          const docLink = document.createElement('div');\n",
              "          docLink.innerHTML = docLinkHtml;\n",
              "          element.appendChild(docLink);\n",
              "        }\n",
              "      </script>\n",
              "    </div>\n",
              "  </div>\n",
              "  "
            ]
          },
          "metadata": {},
          "execution_count": 31
        }
      ]
    },
    {
      "cell_type": "code",
      "source": [
        "netflix.info()"
      ],
      "metadata": {
        "id": "dkMzmtRaViyO",
        "colab": {
          "base_uri": "https://localhost:8080/"
        },
        "outputId": "077e907e-670d-4c5b-edf9-11e2cc172050"
      },
      "execution_count": 32,
      "outputs": [
        {
          "output_type": "stream",
          "name": "stdout",
          "text": [
            "<class 'pandas.core.frame.DataFrame'>\n",
            "Int64Index: 7787 entries, 0 to 5376\n",
            "Data columns (total 10 columns):\n",
            " #   Column        Non-Null Count  Dtype  \n",
            "---  ------        --------------  -----  \n",
            " 0   type          7787 non-null   object \n",
            " 1   title         7787 non-null   object \n",
            " 2   country       7787 non-null   object \n",
            " 3   release_year  7787 non-null   int64  \n",
            " 4   rating        7787 non-null   object \n",
            " 5   duration      7787 non-null   object \n",
            " 6   listed_in     7787 non-null   object \n",
            " 7   description   7787 non-null   object \n",
            " 8   year_added    7787 non-null   float64\n",
            " 9   month_added   7787 non-null   float64\n",
            "dtypes: float64(2), int64(1), object(7)\n",
            "memory usage: 669.2+ KB\n"
          ]
        }
      ]
    },
    {
      "cell_type": "markdown",
      "source": [
        "##Natural Language Processing  And Feature Engineering"
      ],
      "metadata": {
        "id": "jUK49f1I2JYf"
      }
    },
    {
      "cell_type": "code",
      "source": [
        "netflix.columns   #list of all the columns we have"
      ],
      "metadata": {
        "id": "Ok7YoaBWkF53",
        "colab": {
          "base_uri": "https://localhost:8080/"
        },
        "outputId": "180a68de-f48d-4f4f-c972-d7a56acba74a"
      },
      "execution_count": 33,
      "outputs": [
        {
          "output_type": "execute_result",
          "data": {
            "text/plain": [
              "Index(['type', 'title', 'country', 'release_year', 'rating', 'duration',\n",
              "       'listed_in', 'description', 'year_added', 'month_added'],\n",
              "      dtype='object')"
            ]
          },
          "metadata": {},
          "execution_count": 33
        }
      ]
    },
    {
      "cell_type": "code",
      "source": [],
      "metadata": {
        "id": "lalzwt5Te3Gc"
      },
      "execution_count": 33,
      "outputs": []
    },
    {
      "cell_type": "markdown",
      "source": [
        "###Text Cleaning and Tokenizing\n",
        "- removing extra spaces.\n",
        "- Removing Stopping Words.\n",
        "- removing punctuations.\n",
        "- lemmatization.\n",
        "\n",
        "Here I have also written a function to tokenize the text in words and sentences\n",
        "\n",
        "**These all functions takes the text as input (the text can be in tokenized form).**"
      ],
      "metadata": {
        "id": "uCKoS5Ue9pWi"
      }
    },
    {
      "cell_type": "code",
      "source": [
        "#removing extra spaces from text\n",
        "remove_extra_spaces=lambda text:(\" \".join((text.strip()).split()))"
      ],
      "metadata": {
        "id": "5LF1IUdZQuGv"
      },
      "execution_count": 34,
      "outputs": []
    },
    {
      "cell_type": "code",
      "source": [
        "#A function for removing stopping words from the text\n",
        "def remove_stopping_words(text):\n",
        "  \n",
        "  sw=(set(stopwords.words('english')))\n",
        "\n",
        "  if(isinstance(text,str)):\n",
        "    text_words=text.split()\n",
        "  else:\n",
        "    text_words=text.copy()\n",
        "\n",
        "  text_words=[word for word in text_words if word not in sw ]\n",
        "\n",
        "  if(isinstance(text,str)):\n",
        "    text=\" \".join(text_words)\n",
        "    return text\n",
        "  return text_words\n",
        "\n",
        "\n"
      ],
      "metadata": {
        "id": "wnJUdReiQyvV"
      },
      "execution_count": 35,
      "outputs": []
    },
    {
      "cell_type": "code",
      "source": [
        "#A function for removing puntuations\n",
        "def remove_punctuations(text):\n",
        "\n",
        "  #i want to preserve only alphabets and numbers\n",
        "  alpha_num=list(string. ascii_lowercase)\n",
        "  alpha_num.extend(string. ascii_uppercase)\n",
        "  alpha_num.extend(list(range(0,10)))\n",
        "\n",
        "\n",
        "  #i will also prserve full stop and spaces, to marks the end of sentences and words respectively\n",
        "  alpha_num.extend(['.',\" \"])\n",
        "  is_text=True\n",
        "\n",
        "  if(isinstance(text,list)):\n",
        "    t=\" \".join(text)\n",
        "    is_text=False\n",
        "  else:\n",
        "    t=text\n",
        "\n",
        "  #punctuations will be replaced with spaces\n",
        "  t=[letter if letter in alpha_num else ' ' for letter in t]\n",
        "  t=\"\".join(t)\n",
        "  t=remove_extra_spaces(t)\n",
        "\n",
        "  if(is_text==False):\n",
        "    t=t.split()  \n",
        "  return t"
      ],
      "metadata": {
        "id": "6cS6P83jQy4X"
      },
      "execution_count": 36,
      "outputs": []
    },
    {
      "cell_type": "code",
      "source": [
        "#code for lemmatization: this to treat all the similar kind of words as a same word\n",
        "\n",
        "def lemmatisation_text(text):\n",
        "  \n",
        "  lemmatizer = WordNetLemmatizer()\n",
        "\n",
        "  if(isinstance(text,str)):\n",
        "    text_words=text.split()\n",
        "  else:\n",
        "    text_words=text.copy()\n",
        "\n",
        "  #this will change plural to singular\n",
        "  text_words=[lemmatizer.lemmatize(word) for word in text_words]\n",
        "\n",
        "  #bring all the verbs to their present tense\n",
        "  text_words=[lemmatizer.lemmatize(word, pos=\"v\") for word in text_words]\n",
        "\n",
        "  if(isinstance(text,str)):\n",
        "    text=\" \".join(text_words)\n",
        "    return text\n",
        "\n",
        "\n",
        "  return text_words"
      ],
      "metadata": {
        "id": "nzwhGryBu8Hq"
      },
      "execution_count": 37,
      "outputs": []
    },
    {
      "cell_type": "code",
      "source": [
        "def remove_fullstop(text):\n",
        "  if(isinstance(text,list)):\n",
        "    t=\" \".join(text)\n",
        "  else:\n",
        "    t=text\n",
        "\n",
        "  #. will be replaced with spaces\n",
        "  t=t.replace('.',' ')\n",
        "  t=remove_extra_spaces(t)\n",
        "\n",
        "  if(isinstance(text,list)):\n",
        "    t=t.split()  \n",
        "  return t\n"
      ],
      "metadata": {
        "id": "btObPt9LMuJT"
      },
      "execution_count": 38,
      "outputs": []
    },
    {
      "cell_type": "code",
      "source": [
        "#Tokenization\n",
        "tokenize_words=lambda text:(word_tokenize(text))\n",
        "tokenize_sentences=lambda text:(sent_tokenize(text))"
      ],
      "metadata": {
        "id": "kpqxXOVi6yRC"
      },
      "execution_count": 39,
      "outputs": []
    },
    {
      "cell_type": "code",
      "source": [
        "def nlp_of_text(text):\n",
        "  text=remove_extra_spaces(text)\n",
        "  text=remove_stopping_words(text)\n",
        "  text=remove_punctuations(text)\n",
        "  text=remove_fullstop(text)\n",
        "  text=lemmatisation_text(text)\n",
        "  return tokenize_words(text)\n",
        "\n"
      ],
      "metadata": {
        "id": "BHaFChYjny4q"
      },
      "execution_count": 40,
      "outputs": []
    },
    {
      "cell_type": "markdown",
      "source": [
        "###Title"
      ],
      "metadata": {
        "id": "HhPOZBXTaUxn"
      }
    },
    {
      "cell_type": "code",
      "source": [
        "netflix[\"titel\"]=[nlp_of_text(x) for x in netflix[\"title\"]]"
      ],
      "metadata": {
        "id": "aFxVubNbaYoY"
      },
      "execution_count": 41,
      "outputs": []
    },
    {
      "cell_type": "code",
      "source": [],
      "metadata": {
        "id": "nSdjy5vAaYmp"
      },
      "execution_count": 41,
      "outputs": []
    },
    {
      "cell_type": "markdown",
      "source": [
        "###Country"
      ],
      "metadata": {
        "id": "z_w0F21WZEMv"
      }
    },
    {
      "cell_type": "code",
      "source": [
        "netflix= netflix.assign(country=netflix['country'].str.split(',')).explode('country',ignore_index=True)"
      ],
      "metadata": {
        "id": "c_thSpqQ2jYV"
      },
      "execution_count": 42,
      "outputs": []
    },
    {
      "cell_type": "code",
      "source": [
        "country_count=netflix[\"country\"].value_counts()\n",
        "country_names=country_count.index\n",
        "country_count"
      ],
      "metadata": {
        "id": "7ZUe6FXqlR4K",
        "colab": {
          "base_uri": "https://localhost:8080/"
        },
        "outputId": "cdfd0be9-cc83-443a-8977-bd0ec92ba0ec"
      },
      "execution_count": 43,
      "outputs": [
        {
          "output_type": "execute_result",
          "data": {
            "text/plain": [
              "United States          3390\n",
              "India                   956\n",
              "United Kingdom          577\n",
              " United States          414\n",
              "Canada                  259\n",
              "                       ... \n",
              " Guatemala                1\n",
              "West Germany              1\n",
              "Slovenia                  1\n",
              " Dominican Republic       1\n",
              " Montenegro               1\n",
              "Name: country, Length: 188, dtype: int64"
            ]
          },
          "metadata": {},
          "execution_count": 43
        }
      ]
    },
    {
      "cell_type": "code",
      "source": [
        "len(country_count[country_count<10].index)"
      ],
      "metadata": {
        "colab": {
          "base_uri": "https://localhost:8080/"
        },
        "id": "UX1JIa2eCYW2",
        "outputId": "7aebb07c-2026-4257-8f11-45dc890d1c5d"
      },
      "execution_count": 44,
      "outputs": [
        {
          "output_type": "execute_result",
          "data": {
            "text/plain": [
              "117"
            ]
          },
          "metadata": {},
          "execution_count": 44
        }
      ]
    },
    {
      "cell_type": "code",
      "source": [
        "country_feature={ (x):(x if country_count[x]>=10 else \"others117\") for x in country_names }"
      ],
      "metadata": {
        "id": "z-0eRneZwmCQ"
      },
      "execution_count": 45,
      "outputs": []
    },
    {
      "cell_type": "code",
      "source": [
        "netflix['country'] = netflix['country'].replace(country_feature)"
      ],
      "metadata": {
        "id": "g7L8kJ2k0L17"
      },
      "execution_count": 46,
      "outputs": []
    },
    {
      "cell_type": "markdown",
      "source": [
        "###Duration"
      ],
      "metadata": {
        "id": "f7w_BbPojBgR"
      }
    },
    {
      "cell_type": "code",
      "source": [
        "netflix[netflix[\"type\"]==\"Movie\"][\"duration\"].value_counts()\n",
        "#now I have to remove min from this and change the dtype to integer"
      ],
      "metadata": {
        "colab": {
          "base_uri": "https://localhost:8080/"
        },
        "id": "ijfAo_cccJ2S",
        "outputId": "26b8e4a1-02f3-469e-b132-4ef44970615f"
      },
      "execution_count": 47,
      "outputs": [
        {
          "output_type": "execute_result",
          "data": {
            "text/plain": [
              "93 min     186\n",
              "90 min     176\n",
              "96 min     169\n",
              "94 min     161\n",
              "92 min     155\n",
              "          ... \n",
              "182 min      1\n",
              "9 min        1\n",
              "204 min      1\n",
              "214 min      1\n",
              "191 min      1\n",
              "Name: duration, Length: 201, dtype: int64"
            ]
          },
          "metadata": {},
          "execution_count": 47
        }
      ]
    },
    {
      "cell_type": "code",
      "source": [
        "netflix[netflix[\"type\"]==\"TV Show\"][\"duration\"].value_counts()\n",
        "#same we will do with TV Show duration\n"
      ],
      "metadata": {
        "id": "z1b8MT6Xi-JU",
        "colab": {
          "base_uri": "https://localhost:8080/"
        },
        "outputId": "cba8ba5d-6bcb-440e-a393-16bfc587de9e"
      },
      "execution_count": 48,
      "outputs": [
        {
          "output_type": "execute_result",
          "data": {
            "text/plain": [
              "1 Season      1781\n",
              "2 Seasons      444\n",
              "3 Seasons      223\n",
              "4 Seasons      110\n",
              "5 Seasons       69\n",
              "6 Seasons       33\n",
              "7 Seasons       22\n",
              "8 Seasons       19\n",
              "10 Seasons      10\n",
              "9 Seasons        8\n",
              "11 Seasons       3\n",
              "12 Seasons       3\n",
              "15 Seasons       3\n",
              "13 Seasons       2\n",
              "16 Seasons       1\n",
              "Name: duration, dtype: int64"
            ]
          },
          "metadata": {},
          "execution_count": 48
        }
      ]
    },
    {
      "cell_type": "code",
      "source": [
        "netflix[\"duration\"]=[int(x.split(\" \")[0]) for x in netflix[\"duration\"]]\n"
      ],
      "metadata": {
        "id": "oYS4Ld0Yd_ze"
      },
      "execution_count": 49,
      "outputs": []
    },
    {
      "cell_type": "code",
      "source": [
        "netflix[netflix[\"type\"]==\"Movie\"][\"duration\"].value_counts()"
      ],
      "metadata": {
        "id": "sjYbcls3qeUf",
        "colab": {
          "base_uri": "https://localhost:8080/"
        },
        "outputId": "0e09c40d-b681-4005-b0ef-3c80490b3bc2"
      },
      "execution_count": 50,
      "outputs": [
        {
          "output_type": "execute_result",
          "data": {
            "text/plain": [
              "93     186\n",
              "90     176\n",
              "96     169\n",
              "94     161\n",
              "92     155\n",
              "      ... \n",
              "182      1\n",
              "9        1\n",
              "204      1\n",
              "214      1\n",
              "191      1\n",
              "Name: duration, Length: 201, dtype: int64"
            ]
          },
          "metadata": {},
          "execution_count": 50
        }
      ]
    },
    {
      "cell_type": "code",
      "source": [
        "import seaborn as sns\n",
        "fig = plt.figure(figsize=(10,7))\n",
        "sns.distplot(netflix[netflix[\"type\"]==\"Movie\"][\"duration\"], color = 'g')\n",
        "#we can have a look that distribution of durtion of movies is a normal distribution."
      ],
      "metadata": {
        "colab": {
          "base_uri": "https://localhost:8080/",
          "height": 517
        },
        "id": "QefyaWtTdFKH",
        "outputId": "9de5e8d6-e75e-4a74-a387-64b5d55a6018"
      },
      "execution_count": 51,
      "outputs": [
        {
          "output_type": "stream",
          "name": "stderr",
          "text": [
            "/usr/local/lib/python3.8/dist-packages/seaborn/distributions.py:2619: FutureWarning: `distplot` is a deprecated function and will be removed in a future version. Please adapt your code to use either `displot` (a figure-level function with similar flexibility) or `histplot` (an axes-level function for histograms).\n",
            "  warnings.warn(msg, FutureWarning)\n"
          ]
        },
        {
          "output_type": "execute_result",
          "data": {
            "text/plain": [
              "<matplotlib.axes._subplots.AxesSubplot at 0x7f0e0d1f88b0>"
            ]
          },
          "metadata": {},
          "execution_count": 51
        },
        {
          "output_type": "display_data",
          "data": {
            "text/plain": [
              "<Figure size 720x504 with 1 Axes>"
            ],
            "image/png": "[encoded data removed]"
          },
          "metadata": {
            "needs_background": "light"
          }
        }
      ]
    },
    {
      "cell_type": "code",
      "source": [
        "print(netflix[netflix[\"type\"]==\"TV Show\"][\"duration\"].value_counts())\n",
        "fig = plt.figure(figsize=(10,7))\n",
        "sns.distplot(netflix[netflix[\"type\"]==\"TV Show\"][\"duration\"], color = 'g')\n",
        "#we can have a look that distribution of durtion of movies is a right skewed distribution."
      ],
      "metadata": {
        "colab": {
          "base_uri": "https://localhost:8080/",
          "height": 813
        },
        "id": "tcXwv0sUqSBJ",
        "outputId": "117de84c-67c6-4975-d8a3-ade4a06aa01f"
      },
      "execution_count": 52,
      "outputs": [
        {
          "output_type": "stream",
          "name": "stdout",
          "text": [
            "1     1781\n",
            "2      444\n",
            "3      223\n",
            "4      110\n",
            "5       69\n",
            "6       33\n",
            "7       22\n",
            "8       19\n",
            "10      10\n",
            "9        8\n",
            "11       3\n",
            "12       3\n",
            "15       3\n",
            "13       2\n",
            "16       1\n",
            "Name: duration, dtype: int64\n"
          ]
        },
        {
          "output_type": "stream",
          "name": "stderr",
          "text": [
            "/usr/local/lib/python3.8/dist-packages/seaborn/distributions.py:2619: FutureWarning: `distplot` is a deprecated function and will be removed in a future version. Please adapt your code to use either `displot` (a figure-level function with similar flexibility) or `histplot` (an axes-level function for histograms).\n",
            "  warnings.warn(msg, FutureWarning)\n"
          ]
        },
        {
          "output_type": "execute_result",
          "data": {
            "text/plain": [
              "<matplotlib.axes._subplots.AxesSubplot at 0x7f0e0cbbff70>"
            ]
          },
          "metadata": {},
          "execution_count": 52
        },
        {
          "output_type": "display_data",
          "data": {
            "text/plain": [
              "<Figure size 720x504 with 1 Axes>"
            ],
            "image/png": "[encoded data removed]"
          },
          "metadata": {
            "needs_background": "light"
          }
        }
      ]
    },
    {
      "cell_type": "markdown",
      "source": [
        "###listed_in"
      ],
      "metadata": {
        "id": "8v8EHWZpsl15"
      }
    },
    {
      "cell_type": "code",
      "source": [
        "netflix[\"listed_in\"]=[nlp_of_text(x) for x in netflix[\"listed_in\"]]"
      ],
      "metadata": {
        "id": "f2COMU5b7Es9"
      },
      "execution_count": 53,
      "outputs": []
    },
    {
      "cell_type": "markdown",
      "source": [
        "###description "
      ],
      "metadata": {
        "id": "pCh6tCG_ssJC"
      }
    },
    {
      "cell_type": "code",
      "source": [
        "netflix[\"description\"]=[nlp_of_text(x) for x in netflix[\"description\"]]"
      ],
      "metadata": {
        "id": "IijjmsNBzLf7"
      },
      "execution_count": 54,
      "outputs": []
    },
    {
      "cell_type": "markdown",
      "source": [
        "###Feauture engineering on rating column"
      ],
      "metadata": {
        "id": "lC09LNz6GAF0"
      }
    },
    {
      "cell_type": "code",
      "source": [
        "#dividing rating into differet categories on the basis of age\n",
        "ratings = {\n",
        "    'TV-PG': 'Older Kids',\n",
        "    'TV-MA': 'Adults',\n",
        "    'TV-Y7-FV': 'Older Kids',\n",
        "    'TV-Y7': 'Older Kids',\n",
        "    'TV-14': 'Teens',\n",
        "    'R': 'Adults',\n",
        "    'TV-Y': 'Kids',\n",
        "    'NR': 'Adults',\n",
        "    'PG-13': 'Teens',\n",
        "    'TV-G': 'Kids',\n",
        "    'PG': 'Older Kids',\n",
        "    'G': 'Kids',\n",
        "    'UR': 'Adults',\n",
        "    'NC-17': 'Adults'\n",
        "}\n",
        "netflix['target_ages'] = netflix['rating'].replace(ratings)"
      ],
      "metadata": {
        "id": "mrLygz3VvMQc"
      },
      "execution_count": 55,
      "outputs": []
    },
    {
      "cell_type": "markdown",
      "source": [
        "##EDA (Exploratory Data Analysis)\n"
      ],
      "metadata": {
        "id": "5lEhtKumUujk"
      }
    },
    {
      "cell_type": "code",
      "source": [
        "netflix.columns"
      ],
      "metadata": {
        "colab": {
          "base_uri": "https://localhost:8080/"
        },
        "id": "ygq_4wH7F_xK",
        "outputId": "ea819947-338e-4ed6-a1cf-6af148acce59"
      },
      "execution_count": 56,
      "outputs": [
        {
          "output_type": "execute_result",
          "data": {
            "text/plain": [
              "Index(['type', 'title', 'country', 'release_year', 'rating', 'duration',\n",
              "       'listed_in', 'description', 'year_added', 'month_added', 'titel',\n",
              "       'target_ages'],\n",
              "      dtype='object')"
            ]
          },
          "metadata": {},
          "execution_count": 56
        }
      ]
    },
    {
      "cell_type": "markdown",
      "source": [
        "###Type"
      ],
      "metadata": {
        "id": "cylSu23MI3gg"
      }
    },
    {
      "cell_type": "code",
      "source": [
        "\n",
        "type_ = netflix['type'].value_counts()\n",
        "type_.plot(kind = 'pie',figsize = (5,5),autopct='%1.0f%%')"
      ],
      "metadata": {
        "colab": {
          "base_uri": "https://localhost:8080/",
          "height": 321
        },
        "id": "pgw543FAJDNh",
        "outputId": "ade3b9f9-ca33-4967-bc8e-5196006260e8"
      },
      "execution_count": 57,
      "outputs": [
        {
          "output_type": "execute_result",
          "data": {
            "text/plain": [
              "<matplotlib.axes._subplots.AxesSubplot at 0x7f0e0bc316d0>"
            ]
          },
          "metadata": {},
          "execution_count": 57
        },
        {
          "output_type": "display_data",
          "data": {
            "text/plain": [
              "<Figure size 360x360 with 1 Axes>"
            ],
            "image/png": "[encoded data removed]"
          },
          "metadata": {}
        }
      ]
    },
    {
      "cell_type": "code",
      "source": [
        "#type vs rating\n",
        "type_rating=pd.crosstab(netflix[\"rating\"],netflix[\"type\"])\n",
        "type_rating.plot(kind = 'bar',y = ['Movie','TV Show'], figsize = (15,6))\n",
        "plt.title('',fontsize = 15)\n",
        "plt.ylabel('',fontsize = 10)"
      ],
      "metadata": {
        "colab": {
          "base_uri": "https://localhost:8080/",
          "height": 439
        },
        "id": "BjSwABnZYOzt",
        "outputId": "1600e04e-a9c3-4117-fafd-aa66f266e71e"
      },
      "execution_count": 66,
      "outputs": [
        {
          "output_type": "execute_result",
          "data": {
            "text/plain": [
              "Text(0, 0.5, '')"
            ]
          },
          "metadata": {},
          "execution_count": 66
        },
        {
          "output_type": "display_data",
          "data": {
            "text/plain": [
              "<Figure size 1080x432 with 1 Axes>"
            ],
            "image/png": "[encoded data removed]"
          },
          "metadata": {
            "needs_background": "light"
          }
        }
      ]
    },
    {
      "cell_type": "code",
      "source": [
        "#type vs rating\n",
        "type_ages=pd.crosstab(netflix[\"target_ages\"],netflix[\"type\"])\n",
        "type_ages.plot(kind = 'bar',y = ['Movie','TV Show'], figsize = (15,6))\n",
        "plt.title('',fontsize = 15)\n",
        "plt.ylabel('',fontsize = 10)\n"
      ],
      "metadata": {
        "colab": {
          "base_uri": "https://localhost:8080/",
          "height": 448
        },
        "id": "7hLOj4SvYvqE",
        "outputId": "0f953671-4932-4b64-9909-d59441891e04"
      },
      "execution_count": 69,
      "outputs": [
        {
          "output_type": "execute_result",
          "data": {
            "text/plain": [
              "Text(0, 0.5, '')"
            ]
          },
          "metadata": {},
          "execution_count": 69
        },
        {
          "output_type": "display_data",
          "data": {
            "text/plain": [
              "<Figure size 1080x432 with 1 Axes>"
            ],
            "image/png": "[encoded data removed]"
          },
          "metadata": {
            "needs_background": "light"
          }
        }
      ]
    },
    {
      "cell_type": "code",
      "source": [
        "#type of movie vs duration\n",
        "plt.figure(figsize=(10,6))\n",
        "sns.histplot(data=netflix[netflix[\"type\"]==\"Movie\"],binwidth=True,x=\"duration\",color=\"lightgreen\")"
      ],
      "metadata": {
        "colab": {
          "base_uri": "https://localhost:8080/",
          "height": 406
        },
        "id": "kWJx7UGUeqRB",
        "outputId": "a0d88706-b9c8-43f1-928d-0731f60ac8ac"
      },
      "execution_count": 75,
      "outputs": [
        {
          "output_type": "execute_result",
          "data": {
            "text/plain": [
              "<matplotlib.axes._subplots.AxesSubplot at 0x7f0e05b973d0>"
            ]
          },
          "metadata": {},
          "execution_count": 75
        },
        {
          "output_type": "display_data",
          "data": {
            "text/plain": [
              "<Figure size 720x432 with 1 Axes>"
            ],
            "image/png": "[encoded data removed]"
          },
          "metadata": {
            "needs_background": "light"
          }
        }
      ]
    },
    {
      "cell_type": "code",
      "source": [
        "dir(plt)"
      ],
      "metadata": {
        "colab": {
          "base_uri": "https://localhost:8080/"
        },
        "id": "283DapfbgQnb",
        "outputId": "c0ac23fc-5df7-4df9-e520-0b40d36d103c"
      },
      "execution_count": 77,
      "outputs": [
        {
          "output_type": "execute_result",
          "data": {
            "text/plain": [
              "['Annotation',\n",
              " 'Arrow',\n",
              " 'Artist',\n",
              " 'AutoLocator',\n",
              " 'Axes',\n",
              " 'Button',\n",
              " 'Circle',\n",
              " 'Figure',\n",
              " 'FigureCanvasBase',\n",
              " 'FixedFormatter',\n",
              " 'FixedLocator',\n",
              " 'FormatStrFormatter',\n",
              " 'Formatter',\n",
              " 'FuncFormatter',\n",
              " 'GridSpec',\n",
              " 'IndexLocator',\n",
              " 'Line2D',\n",
              " 'LinearLocator',\n",
              " 'Locator',\n",
              " 'LogFormatter',\n",
              " 'LogFormatterExponent',\n",
              " 'LogFormatterMathtext',\n",
              " 'LogLocator',\n",
              " 'MaxNLocator',\n",
              " 'MultipleLocator',\n",
              " 'Normalize',\n",
              " 'NullFormatter',\n",
              " 'NullLocator',\n",
              " 'Number',\n",
              " 'PolarAxes',\n",
              " 'Polygon',\n",
              " 'Rectangle',\n",
              " 'ScalarFormatter',\n",
              " 'Slider',\n",
              " 'Subplot',\n",
              " 'SubplotTool',\n",
              " 'Text',\n",
              " 'TickHelper',\n",
              " 'Widget',\n",
              " '_INSTALL_FIG_OBSERVER',\n",
              " '_IP_REGISTERED',\n",
              " '__builtins__',\n",
              " '__cached__',\n",
              " '__doc__',\n",
              " '__file__',\n",
              " '__loader__',\n",
              " '__name__',\n",
              " '__package__',\n",
              " '__spec__',\n",
              " '_auto_draw_if_interactive',\n",
              " '_backend_mod',\n",
              " '_get_running_interactive_framework',\n",
              " '_interactive_bk',\n",
              " '_log',\n",
              " '_pylab_helpers',\n",
              " '_setp',\n",
              " '_setup_pyplot_info_docstrings',\n",
              " '_show',\n",
              " 'acorr',\n",
              " 'angle_spectrum',\n",
              " 'annotate',\n",
              " 'arrow',\n",
              " 'autoscale',\n",
              " 'autumn',\n",
              " 'axes',\n",
              " 'axhline',\n",
              " 'axhspan',\n",
              " 'axis',\n",
              " 'axvline',\n",
              " 'axvspan',\n",
              " 'bar',\n",
              " 'barbs',\n",
              " 'barh',\n",
              " 'bone',\n",
              " 'box',\n",
              " 'boxplot',\n",
              " 'broken_barh',\n",
              " 'cbook',\n",
              " 'cla',\n",
              " 'clabel',\n",
              " 'clf',\n",
              " 'clim',\n",
              " 'close',\n",
              " 'cm',\n",
              " 'cohere',\n",
              " 'colorbar',\n",
              " 'colormaps',\n",
              " 'connect',\n",
              " 'contour',\n",
              " 'contourf',\n",
              " 'cool',\n",
              " 'copper',\n",
              " 'csd',\n",
              " 'cycler',\n",
              " 'dedent',\n",
              " 'delaxes',\n",
              " 'deprecated',\n",
              " 'disconnect',\n",
              " 'docstring',\n",
              " 'draw',\n",
              " 'draw_all',\n",
              " 'draw_if_interactive',\n",
              " 'errorbar',\n",
              " 'eventplot',\n",
              " 'figaspect',\n",
              " 'figimage',\n",
              " 'figlegend',\n",
              " 'fignum_exists',\n",
              " 'figtext',\n",
              " 'figure',\n",
              " 'fill',\n",
              " 'fill_between',\n",
              " 'fill_betweenx',\n",
              " 'findobj',\n",
              " 'flag',\n",
              " 'functools',\n",
              " 'gca',\n",
              " 'gcf',\n",
              " 'gci',\n",
              " 'get',\n",
              " 'get_backend',\n",
              " 'get_cmap',\n",
              " 'get_current_fig_manager',\n",
              " 'get_figlabels',\n",
              " 'get_fignums',\n",
              " 'get_plot_commands',\n",
              " 'get_scale_docs',\n",
              " 'get_scale_names',\n",
              " 'getp',\n",
              " 'ginput',\n",
              " 'gray',\n",
              " 'grid',\n",
              " 'hexbin',\n",
              " 'hist',\n",
              " 'hist2d',\n",
              " 'hlines',\n",
              " 'hot',\n",
              " 'hsv',\n",
              " 'importlib',\n",
              " 'imread',\n",
              " 'imsave',\n",
              " 'imshow',\n",
              " 'inferno',\n",
              " 'inspect',\n",
              " 'install_repl_displayhook',\n",
              " 'interactive',\n",
              " 'ioff',\n",
              " 'ion',\n",
              " 'isinteractive',\n",
              " 'jet',\n",
              " 'legend',\n",
              " 'locator_params',\n",
              " 'logging',\n",
              " 'loglog',\n",
              " 'magma',\n",
              " 'magnitude_spectrum',\n",
              " 'margins',\n",
              " 'matplotlib',\n",
              " 'matshow',\n",
              " 'minorticks_off',\n",
              " 'minorticks_on',\n",
              " 'mlab',\n",
              " 'new_figure_manager',\n",
              " 'nipy_spectral',\n",
              " 'np',\n",
              " 'pause',\n",
              " 'pcolor',\n",
              " 'pcolormesh',\n",
              " 'phase_spectrum',\n",
              " 'pie',\n",
              " 'pink',\n",
              " 'plasma',\n",
              " 'plot',\n",
              " 'plot_date',\n",
              " 'plotfile',\n",
              " 'plotting',\n",
              " 'polar',\n",
              " 'prism',\n",
              " 'psd',\n",
              " 'quiver',\n",
              " 'quiverkey',\n",
              " 'rc',\n",
              " 'rcParams',\n",
              " 'rcParamsDefault',\n",
              " 'rcParamsOrig',\n",
              " 'rc_context',\n",
              " 'rcdefaults',\n",
              " 'rcsetup',\n",
              " 're',\n",
              " 'register_cmap',\n",
              " 'rgrids',\n",
              " 'savefig',\n",
              " 'sca',\n",
              " 'scatter',\n",
              " 'sci',\n",
              " 'semilogx',\n",
              " 'semilogy',\n",
              " 'set_cmap',\n",
              " 'set_loglevel',\n",
              " 'setp',\n",
              " 'show',\n",
              " 'silent_list',\n",
              " 'specgram',\n",
              " 'spring',\n",
              " 'spy',\n",
              " 'stackplot',\n",
              " 'stem',\n",
              " 'step',\n",
              " 'streamplot',\n",
              " 'style',\n",
              " 'subplot',\n",
              " 'subplot2grid',\n",
              " 'subplot_tool',\n",
              " 'subplots',\n",
              " 'subplots_adjust',\n",
              " 'summer',\n",
              " 'suptitle',\n",
              " 'switch_backend',\n",
              " 'sys',\n",
              " 'table',\n",
              " 'text',\n",
              " 'thetagrids',\n",
              " 'tick_params',\n",
              " 'ticklabel_format',\n",
              " 'tight_layout',\n",
              " 'time',\n",
              " 'title',\n",
              " 'tricontour',\n",
              " 'tricontourf',\n",
              " 'tripcolor',\n",
              " 'triplot',\n",
              " 'twinx',\n",
              " 'twiny',\n",
              " 'uninstall_repl_displayhook',\n",
              " 'violinplot',\n",
              " 'viridis',\n",
              " 'vlines',\n",
              " 'waitforbuttonpress',\n",
              " 'warn_deprecated',\n",
              " 'winter',\n",
              " 'xcorr',\n",
              " 'xkcd',\n",
              " 'xlabel',\n",
              " 'xlim',\n",
              " 'xscale',\n",
              " 'xticks',\n",
              " 'ylabel',\n",
              " 'ylim',\n",
              " 'yscale',\n",
              " 'yticks']"
            ]
          },
          "metadata": {},
          "execution_count": 77
        }
      ]
    },
    {
      "cell_type": "code",
      "source": [
        "plt.line"
      ],
      "metadata": {
        "id": "AUFp7CysgO6K"
      },
      "execution_count": null,
      "outputs": []
    },
    {
      "cell_type": "code",
      "source": [
        "#type of tv shows vs duration\n",
        "plt.figure(figsize=(10,6))\n",
        "\n",
        "sns.histplot(data=netflix[netflix[\"type\"]==\"TV Show\"],x=\"duration\",stat=\"count\",binwidth=0.2,kde=True,linewidth=0.5,palette=['lightblue','darkred'])"
      ],
      "metadata": {
        "colab": {
          "base_uri": "https://localhost:8080/",
          "height": 406
        },
        "id": "Lp20ViCgeqNQ",
        "outputId": "a27daa9f-c47f-46b5-e72e-8ac68b44bcb1"
      },
      "execution_count": 74,
      "outputs": [
        {
          "output_type": "execute_result",
          "data": {
            "text/plain": [
              "<matplotlib.axes._subplots.AxesSubplot at 0x7f0e05d3d9a0>"
            ]
          },
          "metadata": {},
          "execution_count": 74
        },
        {
          "output_type": "display_data",
          "data": {
            "text/plain": [
              "<Figure size 720x432 with 1 Axes>"
            ],
            "image/png": "[encoded data removed]"
          },
          "metadata": {
            "needs_background": "light"
          }
        }
      ]
    },
    {
      "cell_type": "code",
      "source": [
        "df=netflix[['type','release_year', 'duration', 'year_added' ]]\n",
        "sns.pairplot(netflix,hue='type')"
      ],
      "metadata": {
        "id": "-vklCncr2nz6",
        "colab": {
          "base_uri": "https://localhost:8080/",
          "height": 744
        },
        "outputId": "1475bbdf-1dfd-40af-9c77-6630cc5f419d"
      },
      "execution_count": 64,
      "outputs": [
        {
          "output_type": "execute_result",
          "data": {
            "text/plain": [
              "<seaborn.axisgrid.PairGrid at 0x7f0e0b7baca0>"
            ]
          },
          "metadata": {},
          "execution_count": 64
        },
        {
          "output_type": "display_data",
          "data": {
            "text/plain": [
              "<Figure size 798.75x720 with 20 Axes>"
            ],
            "image/png": "[encoded data removed]"
          },
          "metadata": {
            "needs_background": "light"
          }
        }
      ]
    },
    {
      "cell_type": "markdown",
      "source": [
        "###Type of content in different Countries"
      ],
      "metadata": {
        "id": "lrersPnJ4MPG"
      }
    },
    {
      "cell_type": "code",
      "source": [
        "type_country=pd.crosstab(netflix[\"country\"],netflix[\"type\"])\n",
        "type_country"
      ],
      "metadata": {
        "colab": {
          "base_uri": "https://localhost:8080/",
          "height": 455
        },
        "id": "Yv3Wcyu5q3eI",
        "outputId": "24fb9c8a-0eb6-4919-e181-267d59b254e4"
      },
      "execution_count": null,
      "outputs": [
        {
          "output_type": "execute_result",
          "data": {
            "text/plain": [
              "type                  Movie  TV Show\n",
              "country                             \n",
              " Argentina               14        0\n",
              " Australia               28        8\n",
              " Belgium                 68        3\n",
              " Canada                 111       42\n",
              " China                   54        7\n",
              "...                     ...      ...\n",
              "Turkey                   78       28\n",
              "United Arab Emirates     18        1\n",
              "United Kingdom          341      236\n",
              "United States          2330     1060\n",
              "others117               282       46\n",
              "\n",
              "[72 rows x 2 columns]"
            ],
            "text/html": [
              "\n",
              "  <div id=\"df-4021faeb-dfa5-44b4-b944-a89093674e52\">\n",
              "    <div class=\"colab-df-container\">\n",
              "      <div>\n",
              "<style scoped>\n",
              "    .dataframe tbody tr th:only-of-type {\n",
              "        vertical-align: middle;\n",
              "    }\n",
              "\n",
              "    .dataframe tbody tr th {\n",
              "        vertical-align: top;\n",
              "    }\n",
              "\n",
              "    .dataframe thead th {\n",
              "        text-align: right;\n",
              "    }\n",
              "</style>\n",
              "<table border=\"1\" class=\"dataframe\">\n",
              "  <thead>\n",
              "    <tr style=\"text-align: right;\">\n",
              "      <th>type</th>\n",
              "      <th>Movie</th>\n",
              "      <th>TV Show</th>\n",
              "    </tr>\n",
              "    <tr>\n",
              "      <th>country</th>\n",
              "      <th></th>\n",
              "      <th></th>\n",
              "    </tr>\n",
              "  </thead>\n",
              "  <tbody>\n",
              "    <tr>\n",
              "      <th>Argentina</th>\n",
              "      <td>14</td>\n",
              "      <td>0</td>\n",
              "    </tr>\n",
              "    <tr>\n",
              "      <th>Australia</th>\n",
              "      <td>28</td>\n",
              "      <td>8</td>\n",
              "    </tr>\n",
              "    <tr>\n",
              "      <th>Belgium</th>\n",
              "      <td>68</td>\n",
              "      <td>3</td>\n",
              "    </tr>\n",
              "    <tr>\n",
              "      <th>Canada</th>\n",
              "      <td>111</td>\n",
              "      <td>42</td>\n",
              "    </tr>\n",
              "    <tr>\n",
              "      <th>China</th>\n",
              "      <td>54</td>\n",
              "      <td>7</td>\n",
              "    </tr>\n",
              "    <tr>\n",
              "      <th>...</th>\n",
              "      <td>...</td>\n",
              "      <td>...</td>\n",
              "    </tr>\n",
              "    <tr>\n",
              "      <th>Turkey</th>\n",
              "      <td>78</td>\n",
              "      <td>28</td>\n",
              "    </tr>\n",
              "    <tr>\n",
              "      <th>United Arab Emirates</th>\n",
              "      <td>18</td>\n",
              "      <td>1</td>\n",
              "    </tr>\n",
              "    <tr>\n",
              "      <th>United Kingdom</th>\n",
              "      <td>341</td>\n",
              "      <td>236</td>\n",
              "    </tr>\n",
              "    <tr>\n",
              "      <th>United States</th>\n",
              "      <td>2330</td>\n",
              "      <td>1060</td>\n",
              "    </tr>\n",
              "    <tr>\n",
              "      <th>others117</th>\n",
              "      <td>282</td>\n",
              "      <td>46</td>\n",
              "    </tr>\n",
              "  </tbody>\n",
              "</table>\n",
              "<p>72 rows × 2 columns</p>\n",
              "</div>\n",
              "      <button class=\"colab-df-convert\" onclick=\"convertToInteractive('df-4021faeb-dfa5-44b4-b944-a89093674e52')\"\n",
              "              title=\"Convert this dataframe to an interactive table.\"\n",
              "              style=\"display:none;\">\n",
              "        \n",
              "  <svg xmlns=\"http://www.w3.org/2000/svg\" height=\"24px\"viewBox=\"0 0 24 24\"\n",
              "       width=\"24px\">\n",
              "    <path d=\"M0 0h24v24H0V0z\" fill=\"none\"/>\n",
              "    <path d=\"M18.56 5.44l.94 2.06.94-2.06 2.06-.94-2.06-.94-.94-2.06-.94 2.06-2.06.94zm-11 1L8.5 8.5l.94-2.06 2.06-.94-2.06-.94L8.5 2.5l-.94 2.06-2.06.94zm10 10l.94 2.06.94-2.06 2.06-.94-2.06-.94-.94-2.06-.94 2.06-2.06.94z\"/><path d=\"M17.41 7.96l-1.37-1.37c-.4-.4-.92-.59-1.43-.59-.52 0-1.04.2-1.43.59L10.3 9.45l-7.72 7.72c-.78.78-.78 2.05 0 2.83L4 21.41c.39.39.9.59 1.41.59.51 0 1.02-.2 1.41-.59l7.78-7.78 2.81-2.81c.8-.78.8-2.07 0-2.86zM5.41 20L4 18.59l7.72-7.72 1.47 1.35L5.41 20z\"/>\n",
              "  </svg>\n",
              "      </button>\n",
              "      \n",
              "  <style>\n",
              "    .colab-df-container {\n",
              "      display:flex;\n",
              "      flex-wrap:wrap;\n",
              "      gap: 12px;\n",
              "    }\n",
              "\n",
              "    .colab-df-convert {\n",
              "      background-color: #E8F0FE;\n",
              "      border: none;\n",
              "      border-radius: 50%;\n",
              "      cursor: pointer;\n",
              "      display: none;\n",
              "      fill: #1967D2;\n",
              "      height: 32px;\n",
              "      padding: 0 0 0 0;\n",
              "      width: 32px;\n",
              "    }\n",
              "\n",
              "    .colab-df-convert:hover {\n",
              "      background-color: #E2EBFA;\n",
              "      box-shadow: 0px 1px 2px rgba(60, 64, 67, 0.3), 0px 1px 3px 1px rgba(60, 64, 67, 0.15);\n",
              "      fill: #174EA6;\n",
              "    }\n",
              "\n",
              "    [theme=dark] .colab-df-convert {\n",
              "      background-color: #3B4455;\n",
              "      fill: #D2E3FC;\n",
              "    }\n",
              "\n",
              "    [theme=dark] .colab-df-convert:hover {\n",
              "      background-color: #434B5C;\n",
              "      box-shadow: 0px 1px 3px 1px rgba(0, 0, 0, 0.15);\n",
              "      filter: drop-shadow(0px 1px 2px rgba(0, 0, 0, 0.3));\n",
              "      fill: #FFFFFF;\n",
              "    }\n",
              "  </style>\n",
              "\n",
              "      <script>\n",
              "        const buttonEl =\n",
              "          document.querySelector('#df-4021faeb-dfa5-44b4-b944-a89093674e52 button.colab-df-convert');\n",
              "        buttonEl.style.display =\n",
              "          google.colab.kernel.accessAllowed ? 'block' : 'none';\n",
              "\n",
              "        async function convertToInteractive(key) {\n",
              "          const element = document.querySelector('#df-4021faeb-dfa5-44b4-b944-a89093674e52');\n",
              "          const dataTable =\n",
              "            await google.colab.kernel.invokeFunction('convertToInteractive',\n",
              "                                                     [key], {});\n",
              "          if (!dataTable) return;\n",
              "\n",
              "          const docLinkHtml = 'Like what you see? Visit the ' +\n",
              "            '<a target=\"_blank\" href=https://colab.research.google.com/notebooks/data_table.ipynb>data table notebook</a>'\n",
              "            + ' to learn more about interactive tables.';\n",
              "          element.innerHTML = '';\n",
              "          dataTable['output_type'] = 'display_data';\n",
              "          await google.colab.output.renderOutput(dataTable, element);\n",
              "          const docLink = document.createElement('div');\n",
              "          docLink.innerHTML = docLinkHtml;\n",
              "          element.appendChild(docLink);\n",
              "        }\n",
              "      </script>\n",
              "    </div>\n",
              "  </div>\n",
              "  "
            ]
          },
          "metadata": {},
          "execution_count": 62
        }
      ]
    },
    {
      "cell_type": "code",
      "source": [
        "#country vs type\n",
        "type_country.plot(kind = 'bar',y = ['Movie','TV Show'], figsize = (20,6))\n",
        "plt.title('',fontsize = 15)\n",
        "plt.ylabel('',fontsize = 10)"
      ],
      "metadata": {
        "colab": {
          "base_uri": "https://localhost:8080/",
          "height": 506
        },
        "id": "0rxGGzMnpowy",
        "outputId": "8cb6b504-3060-4110-b418-bed10081092b"
      },
      "execution_count": null,
      "outputs": [
        {
          "output_type": "execute_result",
          "data": {
            "text/plain": [
              "Text(0, 0.5, '')"
            ]
          },
          "metadata": {},
          "execution_count": 63
        },
        {
          "output_type": "display_data",
          "data": {
            "text/plain": [
              "<Figure size 1440x432 with 1 Axes>"
            ],
            "image/png": "[encoded data removed]"
          },
          "metadata": {
            "needs_background": "light"
          }
        }
      ]
    },
    {
      "cell_type": "code",
      "source": [
        "#country vs rating graph"
      ],
      "metadata": {
        "id": "J1hOWBNKWOQ_"
      },
      "execution_count": null,
      "outputs": []
    },
    {
      "cell_type": "code",
      "source": [
        "#percentage of movies and tv shows in different countries"
      ],
      "metadata": {
        "id": "C4ztseL14P0p"
      },
      "execution_count": null,
      "outputs": []
    },
    {
      "cell_type": "code",
      "source": [
        "#countries in which tv shows are preferred and countries in which movies are preferred"
      ],
      "metadata": {
        "id": "mUgmaEbK4WUF"
      },
      "execution_count": null,
      "outputs": []
    },
    {
      "cell_type": "markdown",
      "source": [
        "###Is Netflix has increasingly focusing on TV rather than movies in recent years"
      ],
      "metadata": {
        "id": "1w9i_01GWNiV"
      }
    },
    {
      "cell_type": "code",
      "source": [
        "\n",
        "type_year=pd.crosstab(netflix[\"year_added\"],netflix[\"type\"])"
      ],
      "metadata": {
        "id": "VOcXfJDwJcG8"
      },
      "execution_count": null,
      "outputs": []
    },
    {
      "cell_type": "code",
      "source": [
        "type_year.plot(kind = 'bar', y = ['Movie','TV Show'], figsize = (10,5))\n",
        "plt.title('',fontsize = 15)\n",
        "plt.ylabel('',fontsize = 10)"
      ],
      "metadata": {
        "id": "4I2ABjl7vMy0",
        "colab": {
          "base_uri": "https://localhost:8080/",
          "height": 377
        },
        "outputId": "67bba906-b5ff-4c5a-fcc5-e356a7085e27"
      },
      "execution_count": null,
      "outputs": [
        {
          "output_type": "execute_result",
          "data": {
            "text/plain": [
              "Text(0, 0.5, '')"
            ]
          },
          "metadata": {},
          "execution_count": 59
        },
        {
          "output_type": "display_data",
          "data": {
            "text/plain": [
              "<Figure size 720x360 with 1 Axes>"
            ],
            "image/png": "[encoded data removed]"
          },
          "metadata": {
            "needs_background": "light"
          }
        }
      ]
    },
    {
      "cell_type": "code",
      "source": [
        "sns.histplot(data=netflix,x=\"month_added\",stat=\"probability\",binwidth=0.5,kde=True,hue=\"type\",linewidth=0.5,palette=['lightblue','darkred'])\n",
        "plt.title(\"type and month_added Dependence\")\n",
        "plt.show()"
      ],
      "metadata": {
        "colab": {
          "base_uri": "https://localhost:8080/",
          "height": 296
        },
        "id": "v5G7TwRXh9sE",
        "outputId": "51c49361-2d5c-4eab-dced-b1b7cd7e14e5"
      },
      "execution_count": null,
      "outputs": [
        {
          "output_type": "display_data",
          "data": {
            "text/plain": [
              "<Figure size 432x288 with 1 Axes>"
            ],
            "image/png": "[encoded data removed]"
          },
          "metadata": {
            "needs_background": "light"
          }
        }
      ]
    },
    {
      "cell_type": "code",
      "source": [
        "plt.figure(figsize=(10,6))\n",
        "sns.histplot(data=netflix,x=\"year_added\",stat=\"probability\",binwidth=0.2,kde=True,hue=\"type\",linewidth=0.5,palette=['lightblue','darkred'])\n",
        "plt.title(\"type and year_added Dependence\")\n",
        "plt.show()"
      ],
      "metadata": {
        "colab": {
          "base_uri": "https://localhost:8080/",
          "height": 405
        },
        "id": "YwLqjGVsoZLA",
        "outputId": "5974ff27-5c21-4745-dea1-e76b66e517bb"
      },
      "execution_count": null,
      "outputs": [
        {
          "output_type": "display_data",
          "data": {
            "text/plain": [
              "<Figure size 720x432 with 1 Axes>"
            ],
            "image/png": "[encoded data removed]"
          },
          "metadata": {
            "needs_background": "light"
          }
        }
      ]
    },
    {
      "cell_type": "code",
      "source": [],
      "metadata": {
        "id": "RkVp5xnSWIEA"
      },
      "execution_count": null,
      "outputs": []
    }
  ]
}